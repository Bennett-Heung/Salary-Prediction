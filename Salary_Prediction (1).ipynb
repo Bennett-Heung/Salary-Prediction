{
 "cells": [
  {
   "cell_type": "markdown",
   "metadata": {},
   "source": [
    "# Salary Predictions Based on Job Descriptions"
   ]
  },
  {
   "cell_type": "markdown",
   "metadata": {},
   "source": [
    "# Contents\n"
   ]
  },
  {
   "cell_type": "markdown",
   "metadata": {},
   "source": [
    "# Part 1 - Problem Definition"
   ]
  },
  {
   "cell_type": "markdown",
   "metadata": {},
   "source": [
    "### 1. Defining the problem"
   ]
  },
  {
   "cell_type": "markdown",
   "metadata": {},
   "source": [
    "Estimate job salaries for future comparison on whether salaries are reasonable based on: the job title, company, degree, major, industry, years of experience and distance from a metropolis (miles), as provided by the given dataset. "
   ]
  },
  {
   "cell_type": "code",
   "execution_count": 1,
   "metadata": {},
   "outputs": [],
   "source": [
    "#Author\n",
    "__author__ = \"Bennett Heung\"\n",
    "__email__ = \"bennett.heung@gmail.com\"\n",
    "__website__ = \"https://github.com/Bennett-Heung\""
   ]
  },
  {
   "cell_type": "markdown",
   "metadata": {},
   "source": [
    "#### Import Libraries"
   ]
  },
  {
   "cell_type": "code",
   "execution_count": 2,
   "metadata": {},
   "outputs": [],
   "source": [
    "#For notebook\n",
    "import pandas as pd\n",
    "import numpy as np\n",
    "import matplotlib.pyplot as plt\n",
    "import seaborn as sns\n",
    "import sklearn as sk\n",
    "from sklearn.utils import shuffle"
   ]
  },
  {
   "cell_type": "code",
   "execution_count": null,
   "metadata": {},
   "outputs": [],
   "source": [
    "#For plt visuals\n",
    "%matplotlib inline\n",
    "\n",
    "#conda install -c conda-forge tabulate"
   ]
  },
  {
   "cell_type": "code",
   "execution_count": 57,
   "metadata": {},
   "outputs": [],
   "source": [
    "#For modelling\n",
    "import sklearn as sk\n",
    "from sklearn.preprocessing import MinMaxScaler\n",
    "from sklearn import linear_model\n",
    "from sklearn.linear_model import LinearRegression \n",
    "from sklearn import tree\n",
    "from sklearn import ensemble\n",
    "from sklearn.model_selection import cross_val_score"
   ]
  },
  {
   "cell_type": "markdown",
   "metadata": {},
   "source": [
    "#### Functions"
   ]
  },
  {
   "cell_type": "markdown",
   "metadata": {},
   "source": [
    "##### Load Data"
   ]
  },
  {
   "cell_type": "code",
   "execution_count": 3,
   "metadata": {},
   "outputs": [],
   "source": [
    "#Load data\n",
    "def load_file(df): \n",
    "    \"\"\"\n",
    "    Reads csv file as a Pandas dataframe.\n",
    "    \n",
    "    Parameters\n",
    "    ----------\n",
    "    df: name of csv file \n",
    "    \n",
    "    Returns \n",
    "    -------\n",
    "    Dataframe of csv file\n",
    "    \n",
    "    ---\n",
    "    \"\"\"\n",
    "    return pd.read_csv(df)"
   ]
  },
  {
   "cell_type": "markdown",
   "metadata": {},
   "source": [
    "##### Data Cleaning"
   ]
  },
  {
   "cell_type": "code",
   "execution_count": 4,
   "metadata": {},
   "outputs": [],
   "source": [
    "#Missing data\n",
    "def n_missing(df):\n",
    "    \"\"\"\n",
    "    Number of missing data in Pandas dataframe, df.\n",
    "    \n",
    "    Parameters\n",
    "    ----------\n",
    "    df: name of dataframe\n",
    "    \n",
    "    Returns\n",
    "    -------\n",
    "    Number of rows with missing data\n",
    "    \n",
    "    ---\n",
    "    \"\"\"\n",
    "    return print(df.isnull().sum())"
   ]
  },
  {
   "cell_type": "code",
   "execution_count": null,
   "metadata": {},
   "outputs": [],
   "source": [
    "#Check for duplicates\n",
    "def n_duplicates(df):\n",
    "    \"\"\"\n",
    "    Number of duplicates in Pandas dataframe, df.\n",
    "    \n",
    "    Parameters\n",
    "    ----------\n",
    "    df: name of dataframe\n",
    "    \n",
    "    Returns\n",
    "    -------\n",
    "    Number of duplicate rows in dataframe, df\n",
    "    \n",
    "    ---\n",
    "    \"\"\"\n",
    "    return print(df.duplicated().sum())"
   ]
  },
  {
   "cell_type": "code",
   "execution_count": null,
   "metadata": {},
   "outputs": [],
   "source": [
    "#Count no. of matching identifiers between dataframes\n",
    "def n_identifiers(identifier_col_df1, identifier_col_df2):\n",
    "    \"\"\"\n",
    "    Number of duplicates between two Pandas dataframes.\n",
    "    \n",
    "    Parameters\n",
    "    ----------\n",
    "    identifier_col_df1: unique identifier column of dataframe 1 (df1)\n",
    "        Written in the form of: df1[unique identifier column]\n",
    "    \n",
    "    identifier_col_df2: unique identifier column of dataframe 2 (df2)\n",
    "        Written in the form of: df2[unique identifier column]\n",
    "    \n",
    "    Returns\n",
    "    -------\n",
    "    Number of duplicate rows between two dataframes, df1 and df2\n",
    "    \n",
    "    ---\n",
    "    \"\"\"\n",
    "    return print(identifier_col_df1.isin(identifier_col_df2).sum())"
   ]
  },
  {
   "cell_type": "code",
   "execution_count": 5,
   "metadata": {},
   "outputs": [],
   "source": [
    "#Clean text\n",
    "def df_clean(col, df):\n",
    "    \"\"\"\n",
    "    Format to replace underscores, '_', with spaces ' ' and cap first letter.\n",
    "    \n",
    "    Parameters\n",
    "    ----------\n",
    "    col: name of column \n",
    "    \n",
    "    df: name of dataframe with column 'col'\n",
    "    \n",
    "    Returns\n",
    "    -------\n",
    "    Reformated column 'col' in dataframe 'df'.\n",
    "    \n",
    "    ---\n",
    "    \"\"\"\n",
    "    \n",
    "    df[col] = df[col].str.replace('_',' ')\n",
    "    df[col] = df[col].str.title()"
   ]
  },
  {
   "cell_type": "code",
   "execution_count": 6,
   "metadata": {
    "scrolled": true
   },
   "outputs": [],
   "source": [
    "#Check irregular unique categories in each categorical column\n",
    "def unique_categories(feature_categorical_cols, df):\n",
    "    \"\"\"\n",
    "    Check for irregular unique categories in each categorical variable.\n",
    "    \n",
    "    Parameters\n",
    "    ----------\n",
    "    feature_categorical_cols: names of categorical feature variables \n",
    "        Note: can define 'feature_categorical_cols' prior to applying this function\n",
    "        \n",
    "    df: name of dataframe\n",
    "    \n",
    "    Returns\n",
    "    -------\n",
    "    Prints unique values for each variable. \n",
    "    \n",
    "    ---\n",
    "    \"\"\"\n",
    "    for i in feature_categorical_cols:\n",
    "        print(i, set(df[feature_categorical_cols][i]))"
   ]
  },
  {
   "cell_type": "code",
   "execution_count": 7,
   "metadata": {},
   "outputs": [],
   "source": [
    "#Summary stats tables\n",
    "def col_type_split(df): \n",
    "    \"\"\"\n",
    "    Shows descriptive stats summaries and outliers for categorical and numeric variables separately. \n",
    "\n",
    "    Parameters\n",
    "    ----------\n",
    "    df: name of dataframe \n",
    "    \n",
    "    Returns\n",
    "    -------\n",
    "    categorical_stats: descriptive stats summary of object variables in dataframe, df\n",
    "    numerical_stats: descriptive stats summary of integer & float variables in dataframe, df\n",
    "    \n",
    "    ---\n",
    "    \"\"\"\n",
    "    \n",
    "    #Categorical columns\n",
    "    categorical_cols = df.select_dtypes(include=['object']).columns\n",
    "    categorical_stats = df.describe(include=['object'])\n",
    "    \n",
    "    #Numerical columns\n",
    "    numeric_cols = df.select_dtypes(include=['number']).columns\n",
    "    numeric_stats = df.describe()\n",
    "    \n",
    "    #Outliers IQR * 1.5 rule\n",
    "    IQR = numeric_stats.loc['75%'] - numeric_stats.loc['25%']\n",
    "    lower_outliers = pd.Series(numeric_stats.loc['25%'] - 1.5 * IQR)\n",
    "    upper_outliers = pd.Series(numeric_stats.loc['75%'] + 1.5 * IQR)    \n",
    "    \n",
    "    #Outliers check: True = outliers to check, False = no outliers to check\n",
    "    lower_outlier_check = lower_outliers > numeric_stats.loc['min']\n",
    "    upper_outlier_check = upper_outliers < numeric_stats.loc['max']\n",
    "    \n",
    "    #Add results onto the summary stats table of numeric columns\n",
    "    outliers_check = pd.concat([lower_outlier_check, lower_outliers, upper_outlier_check, upper_outliers], axis=1)\n",
    "    outliers_check.columns = ['lower_outlier_check', 'lower_outliers', 'upper_outlier_check', 'upper_outliers']\n",
    "    outliers_check = outliers_check.transpose()\n",
    "    \n",
    "    numeric_stats = pd.concat([numeric_stats, outliers_check])    \n",
    "\n",
    "    return categorical_stats, numeric_stats"
   ]
  },
  {
   "cell_type": "code",
   "execution_count": 8,
   "metadata": {},
   "outputs": [],
   "source": [
    "#Display suspected lower bound outliers\n",
    "def lower_outliers(numeric_stats, df):\n",
    "    \"\"\"\n",
    "    Shows the number of suspected lower bound outliers for numeric variables in a dataframe. \n",
    "\n",
    "    Parameters\n",
    "    ----------\n",
    "    numeric_stats: 'numeric_stats' derived from col_type_split(df)\n",
    "    \n",
    "    df: name of dataframe \n",
    "        'df' is the same as the dataframe in the 'col_type_split(df)' function.\n",
    "    \n",
    "    Returns\n",
    "    -------\n",
    "    A print statement on the number of suspected lower bound outliers.\n",
    "    \n",
    "    ---\n",
    "    \"\"\"\n",
    "    \n",
    "    for i in numeric_stats.columns: \n",
    "        lower_outliers = df[df[i] <= numeric_stats[i].loc['lower_outliers']]\n",
    "        if len(lower_outliers) > 0:\n",
    "            print('Column: ', i, '\\n No. of suspected lower outliers: ', lower_outliers.shape[0])\n",
    "            display(lower_outliers)\n",
    "            check_lower_outliers.append(i)\n",
    "        else: print(i, 'has no suspected lower bound outliers')"
   ]
  },
  {
   "cell_type": "code",
   "execution_count": null,
   "metadata": {},
   "outputs": [],
   "source": [
    "#Display suspected uppwer bound outliers\n",
    "def upper_outliers(numeric_stats, df):\n",
    "    \"\"\"\n",
    "    Shows the number of suspected upper bound outliers for numeric variables in a dataframe. \n",
    "\n",
    "    Parameters\n",
    "    ----------\n",
    "    numeric_stats: 'numeric_stats' derived from col_type_split(df)\n",
    "    \n",
    "    df: name of dataframe \n",
    "        'df' is the same as the dataframe in the 'col_type_split(df)' function.\n",
    "    \n",
    "    Returns\n",
    "    -------\n",
    "    A print statement on the number of suspected upper bound outliers.\n",
    "    \n",
    "    ---\n",
    "    \"\"\"\n",
    "    for i in numeric_stats.columns: \n",
    "        upper_outliers = df[df[i] >= numeric_stats[i].loc['upper_outliers']]\n",
    "        if len(upper_outliers) > 0:\n",
    "            print('Column: ', i, '\\n No. of suspected upper outliers: ', upper_outliers.shape[0])\n",
    "            display(upper_outliers)\n",
    "            check_upper_outliers.append(i)\n",
    "        else: print(i, 'has no suspected upper bound outliers')"
   ]
  },
  {
   "cell_type": "code",
   "execution_count": null,
   "metadata": {},
   "outputs": [],
   "source": [
    "#Plot Lower Outliers as per categorical variable\n",
    "def lower_outliers_count(col_i, col_j, df): \n",
    "    \"\"\"\n",
    "    Plot lower bound outliers as per categorical variable. \n",
    "\n",
    "    Parameters\n",
    "    ----------\n",
    "    col_i: variable name in dataframe, df, with lower outliers\n",
    "    \n",
    "    col_j: categorical variable in dataframe, df\n",
    "    \n",
    "    df: name of dataframe \n",
    "    \n",
    "    Returns\n",
    "    -------\n",
    "    Line plot of variable with lower outliers against a selected categorical variable.\n",
    "    \n",
    "    ---\n",
    "    \"\"\"\n",
    "    \n",
    "    lower_outliers = df[df[col_i] <= numeric_stats[col_i].loc['lower_outliers']]\n",
    "    plt.plot(lower_outliers[col_j].value_counts(),'g')\n",
    "    plt.xticks(rotation = 90)\n",
    "    plt.show()"
   ]
  },
  {
   "cell_type": "code",
   "execution_count": null,
   "metadata": {},
   "outputs": [],
   "source": [
    "#Plot Upper Outliers as per categorical variable\n",
    "def upper_outliers_count(col_i, col_j, df):   \n",
    "    \"\"\"\n",
    "    Plot upper bound outliers as per categorical variable. \n",
    "\n",
    "    Parameters\n",
    "    ----------\n",
    "    col_i: variable name in dataframe, df, with upper outliers\n",
    "    \n",
    "    col_j: categorical variable in dataframe, df\n",
    "    \n",
    "    df: name of dataframe \n",
    "    \n",
    "    Returns\n",
    "    -------\n",
    "    Line plot of variable with upper outliers against a selected categorical variable.\n",
    "    \n",
    "    ---\n",
    "    \"\"\"\n",
    "\n",
    "    upper_outliers = df[df[col_i] >= numeric_stats[col_i].loc['upper_outliers']]\n",
    "    plt.plot(upper_outliers[col_j].value_counts(),'b')\n",
    "    plt.xticks(rotation = 90)\n",
    "    plt.show()"
   ]
  },
  {
   "cell_type": "markdown",
   "metadata": {},
   "source": [
    "##### Exploratory Data Analysis (EDA)"
   ]
  },
  {
   "cell_type": "code",
   "execution_count": 9,
   "metadata": {
    "scrolled": false
   },
   "outputs": [],
   "source": [
    "#Numeric target variable plots\n",
    "def numeric_target_plots(target_col_name, df):\n",
    "    \"\"\"\n",
    "    Produce both a boxplot and distplot for a numeric target variable. \n",
    "\n",
    "    Parameters\n",
    "    ----------\n",
    "    target_col_name: column name of the numeric target variable\n",
    "    \n",
    "    df: name of dataframe \n",
    "    \n",
    "    Returns\n",
    "    -------\n",
    "    A boxplot and distplot for a numeric target variable.\n",
    "    \n",
    "    ---\n",
    "    \"\"\"\n",
    "    \n",
    "    fig = plt.figure()\n",
    "    plt.figure(figsize=(10, 5))\n",
    "    \n",
    "    #1. Boxplot\n",
    "    plt.subplot(1,2,1)\n",
    "    sns.boxplot(df[target_col_name])\n",
    "    \n",
    "    #2. Distplot\n",
    "    plt.subplot(1,2,2)\n",
    "    sns.distplot(df[target_col_name])\n",
    "    \n",
    "    plt.savefig('numeric_target_plots.png')\n",
    "    plt.show()"
   ]
  },
  {
   "cell_type": "code",
   "execution_count": 10,
   "metadata": {
    "scrolled": true
   },
   "outputs": [],
   "source": [
    "#Numeric feature variable plots\n",
    "def numeric_feature_plots(col, target_col, df):\n",
    "    \"\"\"\n",
    "    Plots a lineplot, boxplot and distplot for a numeric target variable. \n",
    "\n",
    "    Parameters\n",
    "    ----------\n",
    "    col: column name of the numeric feature \n",
    "    \n",
    "    target_col_name: column name of the numeric target variable\n",
    "    \n",
    "    df: name of dataframe with both the numeric feature and target variable\n",
    "    \n",
    "    Returns\n",
    "    -------\n",
    "    A boxplot and distplot (against the target variable) for a numeric feature variable.\n",
    "    \n",
    "    ---\n",
    "    \"\"\"\n",
    "    \n",
    "    fig = plt.figure()\n",
    "    plt.figure(figsize=(10, 5))\n",
    "\n",
    "    #Line chart: target vs. variable\n",
    "    plt.subplot(1,3,1)\n",
    "    y_mean = df.groupby([col]).mean()\n",
    "    y_mean = y_mean[target_col]\n",
    "    y_std = df.groupby([col]).std()\n",
    "    y_std = y_std[target_col]\n",
    "    x = y_mean.index\n",
    "    plt.plot(x, y_mean, '-b')\n",
    "    plt.fill_between(x, y_mean - y_std, y_mean + y_std, alpha=0.2)\n",
    "    plt.xlabel(col)\n",
    "    plt.ylabel(target_col)\n",
    "\n",
    "    #Boxplot\n",
    "    plt.subplot(1,3,2)\n",
    "    sns.boxplot(df[col])\n",
    "    \n",
    "    #Distplot \n",
    "    plt.subplot(1,3,3)\n",
    "    sns.distplot(df[col])\n",
    "    \n",
    "    plt.tight_layout()\n",
    "    plt.savefig('numeric_feature_plots'+str(col)+'.png')\n",
    "    plt.show()"
   ]
  },
  {
   "cell_type": "code",
   "execution_count": 11,
   "metadata": {},
   "outputs": [],
   "source": [
    "#Categorical feature variable plots\n",
    "def categorical_feature_plots(col, target_col, df):\n",
    "    \"\"\"\n",
    "    Produces a bar chart of each category's count and a distplot of each category for a categorical variable. \n",
    "\n",
    "    Parameters\n",
    "    ----------\n",
    "    col: column name of the categorical feature \n",
    "    \n",
    "    target_col_name: column name of the numeric target variable\n",
    "    \n",
    "    df: name of dataframe with both the categorical feature and numeric target variable\n",
    "    \n",
    "    Returns\n",
    "    -------\n",
    "    A bar chart and distplot (against the target variable) of a categorical variable.\n",
    "    \n",
    "    ---\n",
    "    \"\"\"\n",
    "    \n",
    "    fig = plt.figure()\n",
    "    plt.figure(figsize=(10, 5))\n",
    "\n",
    "    #bar charts by category\n",
    "    plt.subplot(1,2,1)\n",
    "    df[col].value_counts().plot(kind = 'bar')\n",
    "    plt.xticks(rotation=90)\n",
    "    \n",
    "    #boxplots of categories in descending order by mean\n",
    "    plt.subplot(1,2,2)\n",
    "    x = df.groupby(by=[col]).mean()\n",
    "    x_index = x[target_col].sort_values(ascending=False).index\n",
    "    sns.boxplot(x=df[col], y=df[target_col], order = x_index)\n",
    "    plt.xticks(rotation=90)\n",
    "    \n",
    "    plt.tight_layout()\n",
    "    plt.savefig('categorical_feature_plots'+str(col)+'.png')\n",
    "    plt.show()"
   ]
  },
  {
   "cell_type": "markdown",
   "metadata": {},
   "source": [
    "##### Modelling"
   ]
  },
  {
   "cell_type": "code",
   "execution_count": 12,
   "metadata": {},
   "outputs": [],
   "source": [
    "#One Hot Encoding \n",
    "def one_hot_encoding(feature_categorical_cols, df):\n",
    "    \"\"\"\n",
    "    Replaces categorical variables with One Hot Encoding variables into the same dataframe.\n",
    "\n",
    "    Parameters\n",
    "    ----------\n",
    "    feature_categorical_cols: column name(s) of the categorical variables that are to be one-hot-encoded \n",
    "        Written in ['column 1 name', 'column 2 name'...]\n",
    "    \n",
    "    df: name of dataframe \n",
    "    \n",
    "    Returns\n",
    "    -------\n",
    "    Dataframe that replaces categorical variables with one-hot-encoded categorical variables.\n",
    "    \n",
    "    ---\n",
    "    \"\"\"\n",
    "    \n",
    "    #Create One Hot Encoding dataframe\n",
    "    categorical_df = df[feature_categorical_cols]\n",
    "    categorical_df = pd.get_dummies(categorical_df)    \n",
    "    #Drop categorical variables from the dataframe\n",
    "    df.drop(df[feature_categorical_cols],axis=1,inplace=True)\n",
    "    #Concat One Hot Encoding dataframe to the dataframe\n",
    "    df = pd.concat([df, categorical_df],axis=1)\n",
    "    return df"
   ]
  },
  {
   "cell_type": "markdown",
   "metadata": {},
   "source": [
    "## Discover"
   ]
  },
  {
   "cell_type": "markdown",
   "metadata": {},
   "source": [
    "### Load Data\n",
    "The features and salary datasets are loaded. "
   ]
  },
  {
   "cell_type": "code",
   "execution_count": 13,
   "metadata": {
    "scrolled": false
   },
   "outputs": [],
   "source": [
    "#Load data and define dataframes\n",
    "train_features = load_file(\"train_features.csv\")\n",
    "train_salaries = load_file(\"train_salaries.csv\")\n",
    "test_features = load_file(\"test_features.csv\")"
   ]
  },
  {
   "cell_type": "markdown",
   "metadata": {},
   "source": [
    "### Data Cleaning\n",
    "Data cleaning involved checking and treating for:\n",
    "- Data types and size of the datasets \n",
    "- Missing data\n",
    "- Duplicates \n",
    "- Invalid data\n",
    "- Suspected outliers. "
   ]
  },
  {
   "cell_type": "code",
   "execution_count": 14,
   "metadata": {},
   "outputs": [
    {
     "data": {
      "text/html": [
       "<div>\n",
       "<style scoped>\n",
       "    .dataframe tbody tr th:only-of-type {\n",
       "        vertical-align: middle;\n",
       "    }\n",
       "\n",
       "    .dataframe tbody tr th {\n",
       "        vertical-align: top;\n",
       "    }\n",
       "\n",
       "    .dataframe thead th {\n",
       "        text-align: right;\n",
       "    }\n",
       "</style>\n",
       "<table border=\"1\" class=\"dataframe\">\n",
       "  <thead>\n",
       "    <tr style=\"text-align: right;\">\n",
       "      <th></th>\n",
       "      <th>jobId</th>\n",
       "      <th>companyId</th>\n",
       "      <th>jobType</th>\n",
       "      <th>degree</th>\n",
       "      <th>major</th>\n",
       "      <th>industry</th>\n",
       "      <th>yearsExperience</th>\n",
       "      <th>milesFromMetropolis</th>\n",
       "    </tr>\n",
       "  </thead>\n",
       "  <tbody>\n",
       "    <tr>\n",
       "      <th>0</th>\n",
       "      <td>JOB1362684407687</td>\n",
       "      <td>COMP37</td>\n",
       "      <td>CFO</td>\n",
       "      <td>MASTERS</td>\n",
       "      <td>MATH</td>\n",
       "      <td>HEALTH</td>\n",
       "      <td>10</td>\n",
       "      <td>83</td>\n",
       "    </tr>\n",
       "    <tr>\n",
       "      <th>1</th>\n",
       "      <td>JOB1362684407688</td>\n",
       "      <td>COMP19</td>\n",
       "      <td>CEO</td>\n",
       "      <td>HIGH_SCHOOL</td>\n",
       "      <td>NONE</td>\n",
       "      <td>WEB</td>\n",
       "      <td>3</td>\n",
       "      <td>73</td>\n",
       "    </tr>\n",
       "    <tr>\n",
       "      <th>2</th>\n",
       "      <td>JOB1362684407689</td>\n",
       "      <td>COMP52</td>\n",
       "      <td>VICE_PRESIDENT</td>\n",
       "      <td>DOCTORAL</td>\n",
       "      <td>PHYSICS</td>\n",
       "      <td>HEALTH</td>\n",
       "      <td>10</td>\n",
       "      <td>38</td>\n",
       "    </tr>\n",
       "    <tr>\n",
       "      <th>3</th>\n",
       "      <td>JOB1362684407690</td>\n",
       "      <td>COMP38</td>\n",
       "      <td>MANAGER</td>\n",
       "      <td>DOCTORAL</td>\n",
       "      <td>CHEMISTRY</td>\n",
       "      <td>AUTO</td>\n",
       "      <td>8</td>\n",
       "      <td>17</td>\n",
       "    </tr>\n",
       "    <tr>\n",
       "      <th>4</th>\n",
       "      <td>JOB1362684407691</td>\n",
       "      <td>COMP7</td>\n",
       "      <td>VICE_PRESIDENT</td>\n",
       "      <td>BACHELORS</td>\n",
       "      <td>PHYSICS</td>\n",
       "      <td>FINANCE</td>\n",
       "      <td>8</td>\n",
       "      <td>16</td>\n",
       "    </tr>\n",
       "  </tbody>\n",
       "</table>\n",
       "</div>"
      ],
      "text/plain": [
       "              jobId companyId         jobType       degree      major  \\\n",
       "0  JOB1362684407687    COMP37             CFO      MASTERS       MATH   \n",
       "1  JOB1362684407688    COMP19             CEO  HIGH_SCHOOL       NONE   \n",
       "2  JOB1362684407689    COMP52  VICE_PRESIDENT     DOCTORAL    PHYSICS   \n",
       "3  JOB1362684407690    COMP38         MANAGER     DOCTORAL  CHEMISTRY   \n",
       "4  JOB1362684407691     COMP7  VICE_PRESIDENT    BACHELORS    PHYSICS   \n",
       "\n",
       "  industry  yearsExperience  milesFromMetropolis  \n",
       "0   HEALTH               10                   83  \n",
       "1      WEB                3                   73  \n",
       "2   HEALTH               10                   38  \n",
       "3     AUTO                8                   17  \n",
       "4  FINANCE                8                   16  "
      ]
     },
     "execution_count": 14,
     "metadata": {},
     "output_type": "execute_result"
    }
   ],
   "source": [
    "#View top five rows\n",
    "train_features.head()"
   ]
  },
  {
   "cell_type": "code",
   "execution_count": 15,
   "metadata": {
    "scrolled": true
   },
   "outputs": [
    {
     "data": {
      "text/html": [
       "<div>\n",
       "<style scoped>\n",
       "    .dataframe tbody tr th:only-of-type {\n",
       "        vertical-align: middle;\n",
       "    }\n",
       "\n",
       "    .dataframe tbody tr th {\n",
       "        vertical-align: top;\n",
       "    }\n",
       "\n",
       "    .dataframe thead th {\n",
       "        text-align: right;\n",
       "    }\n",
       "</style>\n",
       "<table border=\"1\" class=\"dataframe\">\n",
       "  <thead>\n",
       "    <tr style=\"text-align: right;\">\n",
       "      <th></th>\n",
       "      <th>jobId</th>\n",
       "      <th>salary</th>\n",
       "    </tr>\n",
       "  </thead>\n",
       "  <tbody>\n",
       "    <tr>\n",
       "      <th>0</th>\n",
       "      <td>JOB1362684407687</td>\n",
       "      <td>130</td>\n",
       "    </tr>\n",
       "    <tr>\n",
       "      <th>1</th>\n",
       "      <td>JOB1362684407688</td>\n",
       "      <td>101</td>\n",
       "    </tr>\n",
       "    <tr>\n",
       "      <th>2</th>\n",
       "      <td>JOB1362684407689</td>\n",
       "      <td>137</td>\n",
       "    </tr>\n",
       "    <tr>\n",
       "      <th>3</th>\n",
       "      <td>JOB1362684407690</td>\n",
       "      <td>142</td>\n",
       "    </tr>\n",
       "    <tr>\n",
       "      <th>4</th>\n",
       "      <td>JOB1362684407691</td>\n",
       "      <td>163</td>\n",
       "    </tr>\n",
       "  </tbody>\n",
       "</table>\n",
       "</div>"
      ],
      "text/plain": [
       "              jobId  salary\n",
       "0  JOB1362684407687     130\n",
       "1  JOB1362684407688     101\n",
       "2  JOB1362684407689     137\n",
       "3  JOB1362684407690     142\n",
       "4  JOB1362684407691     163"
      ]
     },
     "execution_count": 15,
     "metadata": {},
     "output_type": "execute_result"
    }
   ],
   "source": [
    "#View top five rows\n",
    "train_salaries.head()"
   ]
  },
  {
   "cell_type": "code",
   "execution_count": 16,
   "metadata": {},
   "outputs": [
    {
     "data": {
      "text/html": [
       "<div>\n",
       "<style scoped>\n",
       "    .dataframe tbody tr th:only-of-type {\n",
       "        vertical-align: middle;\n",
       "    }\n",
       "\n",
       "    .dataframe tbody tr th {\n",
       "        vertical-align: top;\n",
       "    }\n",
       "\n",
       "    .dataframe thead th {\n",
       "        text-align: right;\n",
       "    }\n",
       "</style>\n",
       "<table border=\"1\" class=\"dataframe\">\n",
       "  <thead>\n",
       "    <tr style=\"text-align: right;\">\n",
       "      <th></th>\n",
       "      <th>jobId</th>\n",
       "      <th>companyId</th>\n",
       "      <th>jobType</th>\n",
       "      <th>degree</th>\n",
       "      <th>major</th>\n",
       "      <th>industry</th>\n",
       "      <th>yearsExperience</th>\n",
       "      <th>milesFromMetropolis</th>\n",
       "    </tr>\n",
       "  </thead>\n",
       "  <tbody>\n",
       "    <tr>\n",
       "      <th>0</th>\n",
       "      <td>JOB1362685407687</td>\n",
       "      <td>COMP33</td>\n",
       "      <td>MANAGER</td>\n",
       "      <td>HIGH_SCHOOL</td>\n",
       "      <td>NONE</td>\n",
       "      <td>HEALTH</td>\n",
       "      <td>22</td>\n",
       "      <td>73</td>\n",
       "    </tr>\n",
       "    <tr>\n",
       "      <th>1</th>\n",
       "      <td>JOB1362685407688</td>\n",
       "      <td>COMP13</td>\n",
       "      <td>JUNIOR</td>\n",
       "      <td>NONE</td>\n",
       "      <td>NONE</td>\n",
       "      <td>AUTO</td>\n",
       "      <td>20</td>\n",
       "      <td>47</td>\n",
       "    </tr>\n",
       "    <tr>\n",
       "      <th>2</th>\n",
       "      <td>JOB1362685407689</td>\n",
       "      <td>COMP10</td>\n",
       "      <td>CTO</td>\n",
       "      <td>MASTERS</td>\n",
       "      <td>BIOLOGY</td>\n",
       "      <td>HEALTH</td>\n",
       "      <td>17</td>\n",
       "      <td>9</td>\n",
       "    </tr>\n",
       "    <tr>\n",
       "      <th>3</th>\n",
       "      <td>JOB1362685407690</td>\n",
       "      <td>COMP21</td>\n",
       "      <td>MANAGER</td>\n",
       "      <td>HIGH_SCHOOL</td>\n",
       "      <td>NONE</td>\n",
       "      <td>OIL</td>\n",
       "      <td>14</td>\n",
       "      <td>96</td>\n",
       "    </tr>\n",
       "    <tr>\n",
       "      <th>4</th>\n",
       "      <td>JOB1362685407691</td>\n",
       "      <td>COMP36</td>\n",
       "      <td>JUNIOR</td>\n",
       "      <td>DOCTORAL</td>\n",
       "      <td>BIOLOGY</td>\n",
       "      <td>OIL</td>\n",
       "      <td>10</td>\n",
       "      <td>44</td>\n",
       "    </tr>\n",
       "  </tbody>\n",
       "</table>\n",
       "</div>"
      ],
      "text/plain": [
       "              jobId companyId  jobType       degree    major industry  \\\n",
       "0  JOB1362685407687    COMP33  MANAGER  HIGH_SCHOOL     NONE   HEALTH   \n",
       "1  JOB1362685407688    COMP13   JUNIOR         NONE     NONE     AUTO   \n",
       "2  JOB1362685407689    COMP10      CTO      MASTERS  BIOLOGY   HEALTH   \n",
       "3  JOB1362685407690    COMP21  MANAGER  HIGH_SCHOOL     NONE      OIL   \n",
       "4  JOB1362685407691    COMP36   JUNIOR     DOCTORAL  BIOLOGY      OIL   \n",
       "\n",
       "   yearsExperience  milesFromMetropolis  \n",
       "0               22                   73  \n",
       "1               20                   47  \n",
       "2               17                    9  \n",
       "3               14                   96  \n",
       "4               10                   44  "
      ]
     },
     "execution_count": 16,
     "metadata": {},
     "output_type": "execute_result"
    }
   ],
   "source": [
    "#View top five rows\n",
    "test_features.head()"
   ]
  },
  {
   "cell_type": "code",
   "execution_count": 17,
   "metadata": {
    "scrolled": false
   },
   "outputs": [
    {
     "name": "stdout",
     "output_type": "stream",
     "text": [
      "<class 'pandas.core.frame.DataFrame'>\n",
      "RangeIndex: 1000000 entries, 0 to 999999\n",
      "Data columns (total 8 columns):\n",
      " #   Column               Non-Null Count    Dtype \n",
      "---  ------               --------------    ----- \n",
      " 0   jobId                1000000 non-null  object\n",
      " 1   companyId            1000000 non-null  object\n",
      " 2   jobType              1000000 non-null  object\n",
      " 3   degree               1000000 non-null  object\n",
      " 4   major                1000000 non-null  object\n",
      " 5   industry             1000000 non-null  object\n",
      " 6   yearsExperience      1000000 non-null  int64 \n",
      " 7   milesFromMetropolis  1000000 non-null  int64 \n",
      "dtypes: int64(2), object(6)\n",
      "memory usage: 61.0+ MB\n"
     ]
    }
   ],
   "source": [
    "#Data types and shape\n",
    "train_features.info()"
   ]
  },
  {
   "cell_type": "code",
   "execution_count": 18,
   "metadata": {},
   "outputs": [
    {
     "name": "stdout",
     "output_type": "stream",
     "text": [
      "<class 'pandas.core.frame.DataFrame'>\n",
      "RangeIndex: 1000000 entries, 0 to 999999\n",
      "Data columns (total 2 columns):\n",
      " #   Column  Non-Null Count    Dtype \n",
      "---  ------  --------------    ----- \n",
      " 0   jobId   1000000 non-null  object\n",
      " 1   salary  1000000 non-null  int64 \n",
      "dtypes: int64(1), object(1)\n",
      "memory usage: 15.3+ MB\n"
     ]
    }
   ],
   "source": [
    "#Data types and shape\n",
    "train_salaries.info()"
   ]
  },
  {
   "cell_type": "code",
   "execution_count": 19,
   "metadata": {
    "scrolled": false
   },
   "outputs": [
    {
     "name": "stdout",
     "output_type": "stream",
     "text": [
      "<class 'pandas.core.frame.DataFrame'>\n",
      "RangeIndex: 1000000 entries, 0 to 999999\n",
      "Data columns (total 8 columns):\n",
      " #   Column               Non-Null Count    Dtype \n",
      "---  ------               --------------    ----- \n",
      " 0   jobId                1000000 non-null  object\n",
      " 1   companyId            1000000 non-null  object\n",
      " 2   jobType              1000000 non-null  object\n",
      " 3   degree               1000000 non-null  object\n",
      " 4   major                1000000 non-null  object\n",
      " 5   industry             1000000 non-null  object\n",
      " 6   yearsExperience      1000000 non-null  int64 \n",
      " 7   milesFromMetropolis  1000000 non-null  int64 \n",
      "dtypes: int64(2), object(6)\n",
      "memory usage: 61.0+ MB\n"
     ]
    }
   ],
   "source": [
    "#Data types and shape\n",
    "test_features.info()"
   ]
  },
  {
   "cell_type": "markdown",
   "metadata": {},
   "source": [
    "Findings: \n",
    "- All dataframes contain appropriate object and int64 types\n",
    "- Column types valid for further analysis."
   ]
  },
  {
   "cell_type": "code",
   "execution_count": 20,
   "metadata": {
    "scrolled": true
   },
   "outputs": [
    {
     "name": "stdout",
     "output_type": "stream",
     "text": [
      "jobId                  0\n",
      "companyId              0\n",
      "jobType                0\n",
      "degree                 0\n",
      "major                  0\n",
      "industry               0\n",
      "yearsExperience        0\n",
      "milesFromMetropolis    0\n",
      "dtype: int64\n"
     ]
    }
   ],
   "source": [
    "# Missing data check\n",
    "n_missing(train_features)"
   ]
  },
  {
   "cell_type": "code",
   "execution_count": 21,
   "metadata": {
    "scrolled": true
   },
   "outputs": [
    {
     "name": "stdout",
     "output_type": "stream",
     "text": [
      "jobId     0\n",
      "salary    0\n",
      "dtype: int64\n"
     ]
    }
   ],
   "source": [
    "# Missing data check\n",
    "n_missing(train_salaries)"
   ]
  },
  {
   "cell_type": "code",
   "execution_count": 22,
   "metadata": {
    "scrolled": false
   },
   "outputs": [
    {
     "name": "stdout",
     "output_type": "stream",
     "text": [
      "jobId                  0\n",
      "companyId              0\n",
      "jobType                0\n",
      "degree                 0\n",
      "major                  0\n",
      "industry               0\n",
      "yearsExperience        0\n",
      "milesFromMetropolis    0\n",
      "dtype: int64\n"
     ]
    }
   ],
   "source": [
    "# Missing data check\n",
    "n_missing(test_features)"
   ]
  },
  {
   "cell_type": "markdown",
   "metadata": {},
   "source": [
    "Findings: \n",
    "- No missing data detected."
   ]
  },
  {
   "cell_type": "markdown",
   "metadata": {},
   "source": [
    "#### Check duplicates"
   ]
  },
  {
   "cell_type": "code",
   "execution_count": 23,
   "metadata": {},
   "outputs": [
    {
     "name": "stdout",
     "output_type": "stream",
     "text": [
      "0\n"
     ]
    }
   ],
   "source": [
    "#Count duplicates in 'train_features'\n",
    "n_duplicates(train_features)"
   ]
  },
  {
   "cell_type": "code",
   "execution_count": 24,
   "metadata": {},
   "outputs": [
    {
     "name": "stdout",
     "output_type": "stream",
     "text": [
      "0\n"
     ]
    }
   ],
   "source": [
    "#Count duplicates in 'train_salaries'\n",
    "n_duplicates(train_salaries)"
   ]
  },
  {
   "cell_type": "code",
   "execution_count": 25,
   "metadata": {},
   "outputs": [
    {
     "name": "stdout",
     "output_type": "stream",
     "text": [
      "0\n"
     ]
    }
   ],
   "source": [
    "#Count duplicates in 'test_features'\n",
    "n_duplicates(test_features)"
   ]
  },
  {
   "cell_type": "code",
   "execution_count": 26,
   "metadata": {
    "scrolled": true
   },
   "outputs": [
    {
     "name": "stdout",
     "output_type": "stream",
     "text": [
      "1000000\n"
     ]
    }
   ],
   "source": [
    "#Count duplicates between dataframes \n",
    "n_identifiers(train_features['jobId'], train_salaries['jobId'])"
   ]
  },
  {
   "cell_type": "code",
   "execution_count": 27,
   "metadata": {},
   "outputs": [
    {
     "name": "stdout",
     "output_type": "stream",
     "text": [
      "0\n"
     ]
    }
   ],
   "source": [
    "#Count duplicates between dataframes \n",
    "n_identifiers(train_features['jobId'], test_features['jobId'])"
   ]
  },
  {
   "cell_type": "code",
   "execution_count": 28,
   "metadata": {},
   "outputs": [
    {
     "name": "stdout",
     "output_type": "stream",
     "text": [
      "0\n"
     ]
    }
   ],
   "source": [
    "#Count duplicates between dataframes \n",
    "n_identifiers(train_salaries['jobId'], test_features['jobId'])"
   ]
  },
  {
   "cell_type": "markdown",
   "metadata": {},
   "source": [
    "Findings: \n",
    "- No duplicates found within each dataframe\n",
    "- 'jobId' are unique identifiers for both dataframes\n",
    "- Individuals across 'train_features' and 'train_salaries' are identical - appropriate to merge for further anaylsis. \n",
    "- None of these individuals appear in 'test_salaries'. "
   ]
  },
  {
   "cell_type": "code",
   "execution_count": 29,
   "metadata": {
    "scrolled": true
   },
   "outputs": [
    {
     "name": "stdout",
     "output_type": "stream",
     "text": [
      "(1000000, 9)\n"
     ]
    },
    {
     "data": {
      "text/html": [
       "<div>\n",
       "<style scoped>\n",
       "    .dataframe tbody tr th:only-of-type {\n",
       "        vertical-align: middle;\n",
       "    }\n",
       "\n",
       "    .dataframe tbody tr th {\n",
       "        vertical-align: top;\n",
       "    }\n",
       "\n",
       "    .dataframe thead th {\n",
       "        text-align: right;\n",
       "    }\n",
       "</style>\n",
       "<table border=\"1\" class=\"dataframe\">\n",
       "  <thead>\n",
       "    <tr style=\"text-align: right;\">\n",
       "      <th></th>\n",
       "      <th>jobId</th>\n",
       "      <th>companyId</th>\n",
       "      <th>jobType</th>\n",
       "      <th>degree</th>\n",
       "      <th>major</th>\n",
       "      <th>industry</th>\n",
       "      <th>yearsExperience</th>\n",
       "      <th>milesFromMetropolis</th>\n",
       "      <th>salary</th>\n",
       "    </tr>\n",
       "  </thead>\n",
       "  <tbody>\n",
       "    <tr>\n",
       "      <th>0</th>\n",
       "      <td>JOB1362684407687</td>\n",
       "      <td>COMP37</td>\n",
       "      <td>CFO</td>\n",
       "      <td>MASTERS</td>\n",
       "      <td>MATH</td>\n",
       "      <td>HEALTH</td>\n",
       "      <td>10</td>\n",
       "      <td>83</td>\n",
       "      <td>130</td>\n",
       "    </tr>\n",
       "    <tr>\n",
       "      <th>1</th>\n",
       "      <td>JOB1362684407688</td>\n",
       "      <td>COMP19</td>\n",
       "      <td>CEO</td>\n",
       "      <td>HIGH_SCHOOL</td>\n",
       "      <td>NONE</td>\n",
       "      <td>WEB</td>\n",
       "      <td>3</td>\n",
       "      <td>73</td>\n",
       "      <td>101</td>\n",
       "    </tr>\n",
       "    <tr>\n",
       "      <th>2</th>\n",
       "      <td>JOB1362684407689</td>\n",
       "      <td>COMP52</td>\n",
       "      <td>VICE_PRESIDENT</td>\n",
       "      <td>DOCTORAL</td>\n",
       "      <td>PHYSICS</td>\n",
       "      <td>HEALTH</td>\n",
       "      <td>10</td>\n",
       "      <td>38</td>\n",
       "      <td>137</td>\n",
       "    </tr>\n",
       "    <tr>\n",
       "      <th>3</th>\n",
       "      <td>JOB1362684407690</td>\n",
       "      <td>COMP38</td>\n",
       "      <td>MANAGER</td>\n",
       "      <td>DOCTORAL</td>\n",
       "      <td>CHEMISTRY</td>\n",
       "      <td>AUTO</td>\n",
       "      <td>8</td>\n",
       "      <td>17</td>\n",
       "      <td>142</td>\n",
       "    </tr>\n",
       "    <tr>\n",
       "      <th>4</th>\n",
       "      <td>JOB1362684407691</td>\n",
       "      <td>COMP7</td>\n",
       "      <td>VICE_PRESIDENT</td>\n",
       "      <td>BACHELORS</td>\n",
       "      <td>PHYSICS</td>\n",
       "      <td>FINANCE</td>\n",
       "      <td>8</td>\n",
       "      <td>16</td>\n",
       "      <td>163</td>\n",
       "    </tr>\n",
       "  </tbody>\n",
       "</table>\n",
       "</div>"
      ],
      "text/plain": [
       "              jobId companyId         jobType       degree      major  \\\n",
       "0  JOB1362684407687    COMP37             CFO      MASTERS       MATH   \n",
       "1  JOB1362684407688    COMP19             CEO  HIGH_SCHOOL       NONE   \n",
       "2  JOB1362684407689    COMP52  VICE_PRESIDENT     DOCTORAL    PHYSICS   \n",
       "3  JOB1362684407690    COMP38         MANAGER     DOCTORAL  CHEMISTRY   \n",
       "4  JOB1362684407691     COMP7  VICE_PRESIDENT    BACHELORS    PHYSICS   \n",
       "\n",
       "  industry  yearsExperience  milesFromMetropolis  salary  \n",
       "0   HEALTH               10                   83     130  \n",
       "1      WEB                3                   73     101  \n",
       "2   HEALTH               10                   38     137  \n",
       "3     AUTO                8                   17     142  \n",
       "4  FINANCE                8                   16     163  "
      ]
     },
     "execution_count": 29,
     "metadata": {},
     "output_type": "execute_result"
    }
   ],
   "source": [
    "#Define 'train_data' as merged dataframe \n",
    "train_data = train_features.merge(train_salaries,left_on='jobId', right_on='jobId', how='inner')\n",
    "print(train_data.shape)\n",
    "train_data.head()"
   ]
  },
  {
   "cell_type": "code",
   "execution_count": 30,
   "metadata": {},
   "outputs": [
    {
     "data": {
      "text/plain": [
       "Index(['jobId', 'companyId', 'jobType', 'degree', 'major', 'industry'], dtype='object')"
      ]
     },
     "execution_count": 30,
     "metadata": {},
     "output_type": "execute_result"
    }
   ],
   "source": [
    "#Identify 'train_data' columns\n",
    "train_data.select_dtypes(include=object).columns"
   ]
  },
  {
   "cell_type": "code",
   "execution_count": 31,
   "metadata": {},
   "outputs": [],
   "source": [
    "#Clean text for 'jobType' \n",
    "train_data['jobType'] = train_data['jobType'].apply(lambda x: x if len(x) <= 3 else x.replace('_', ' ').title())\n",
    "\n",
    "#Clean text for other categorical columns\n",
    "clean_cols = ['degree','major','industry']\n",
    "for cols in clean_cols:\n",
    "    df_clean(cols, train_data)"
   ]
  },
  {
   "cell_type": "code",
   "execution_count": 32,
   "metadata": {},
   "outputs": [
    {
     "data": {
      "text/html": [
       "<div>\n",
       "<style scoped>\n",
       "    .dataframe tbody tr th:only-of-type {\n",
       "        vertical-align: middle;\n",
       "    }\n",
       "\n",
       "    .dataframe tbody tr th {\n",
       "        vertical-align: top;\n",
       "    }\n",
       "\n",
       "    .dataframe thead th {\n",
       "        text-align: right;\n",
       "    }\n",
       "</style>\n",
       "<table border=\"1\" class=\"dataframe\">\n",
       "  <thead>\n",
       "    <tr style=\"text-align: right;\">\n",
       "      <th></th>\n",
       "      <th>jobId</th>\n",
       "      <th>companyId</th>\n",
       "      <th>jobType</th>\n",
       "      <th>degree</th>\n",
       "      <th>major</th>\n",
       "      <th>industry</th>\n",
       "      <th>yearsExperience</th>\n",
       "      <th>milesFromMetropolis</th>\n",
       "      <th>salary</th>\n",
       "    </tr>\n",
       "  </thead>\n",
       "  <tbody>\n",
       "    <tr>\n",
       "      <th>0</th>\n",
       "      <td>JOB1362684407687</td>\n",
       "      <td>COMP37</td>\n",
       "      <td>CFO</td>\n",
       "      <td>Masters</td>\n",
       "      <td>Math</td>\n",
       "      <td>Health</td>\n",
       "      <td>10</td>\n",
       "      <td>83</td>\n",
       "      <td>130</td>\n",
       "    </tr>\n",
       "    <tr>\n",
       "      <th>1</th>\n",
       "      <td>JOB1362684407688</td>\n",
       "      <td>COMP19</td>\n",
       "      <td>CEO</td>\n",
       "      <td>High School</td>\n",
       "      <td>None</td>\n",
       "      <td>Web</td>\n",
       "      <td>3</td>\n",
       "      <td>73</td>\n",
       "      <td>101</td>\n",
       "    </tr>\n",
       "    <tr>\n",
       "      <th>2</th>\n",
       "      <td>JOB1362684407689</td>\n",
       "      <td>COMP52</td>\n",
       "      <td>Vice President</td>\n",
       "      <td>Doctoral</td>\n",
       "      <td>Physics</td>\n",
       "      <td>Health</td>\n",
       "      <td>10</td>\n",
       "      <td>38</td>\n",
       "      <td>137</td>\n",
       "    </tr>\n",
       "    <tr>\n",
       "      <th>3</th>\n",
       "      <td>JOB1362684407690</td>\n",
       "      <td>COMP38</td>\n",
       "      <td>Manager</td>\n",
       "      <td>Doctoral</td>\n",
       "      <td>Chemistry</td>\n",
       "      <td>Auto</td>\n",
       "      <td>8</td>\n",
       "      <td>17</td>\n",
       "      <td>142</td>\n",
       "    </tr>\n",
       "    <tr>\n",
       "      <th>4</th>\n",
       "      <td>JOB1362684407691</td>\n",
       "      <td>COMP7</td>\n",
       "      <td>Vice President</td>\n",
       "      <td>Bachelors</td>\n",
       "      <td>Physics</td>\n",
       "      <td>Finance</td>\n",
       "      <td>8</td>\n",
       "      <td>16</td>\n",
       "      <td>163</td>\n",
       "    </tr>\n",
       "  </tbody>\n",
       "</table>\n",
       "</div>"
      ],
      "text/plain": [
       "              jobId companyId         jobType       degree      major  \\\n",
       "0  JOB1362684407687    COMP37             CFO      Masters       Math   \n",
       "1  JOB1362684407688    COMP19             CEO  High School       None   \n",
       "2  JOB1362684407689    COMP52  Vice President     Doctoral    Physics   \n",
       "3  JOB1362684407690    COMP38         Manager     Doctoral  Chemistry   \n",
       "4  JOB1362684407691     COMP7  Vice President    Bachelors    Physics   \n",
       "\n",
       "  industry  yearsExperience  milesFromMetropolis  salary  \n",
       "0   Health               10                   83     130  \n",
       "1      Web                3                   73     101  \n",
       "2   Health               10                   38     137  \n",
       "3     Auto                8                   17     142  \n",
       "4  Finance                8                   16     163  "
      ]
     },
     "execution_count": 32,
     "metadata": {},
     "output_type": "execute_result"
    }
   ],
   "source": [
    "#View top five rows\n",
    "train_data.head()"
   ]
  },
  {
   "cell_type": "code",
   "execution_count": 33,
   "metadata": {
    "scrolled": true
   },
   "outputs": [
    {
     "name": "stdout",
     "output_type": "stream",
     "text": [
      "<class 'pandas.core.frame.DataFrame'>\n",
      "Int64Index: 1000000 entries, 0 to 999999\n",
      "Data columns (total 9 columns):\n",
      " #   Column               Non-Null Count    Dtype \n",
      "---  ------               --------------    ----- \n",
      " 0   jobId                1000000 non-null  object\n",
      " 1   companyId            1000000 non-null  object\n",
      " 2   jobType              1000000 non-null  object\n",
      " 3   degree               1000000 non-null  object\n",
      " 4   major                1000000 non-null  object\n",
      " 5   industry             1000000 non-null  object\n",
      " 6   yearsExperience      1000000 non-null  int64 \n",
      " 7   milesFromMetropolis  1000000 non-null  int64 \n",
      " 8   salary               1000000 non-null  int64 \n",
      "dtypes: int64(3), object(6)\n",
      "memory usage: 76.3+ MB\n"
     ]
    }
   ],
   "source": [
    "#Data types and shape\n",
    "train_data.info()"
   ]
  },
  {
   "cell_type": "markdown",
   "metadata": {},
   "source": [
    "#### Check invalid data"
   ]
  },
  {
   "cell_type": "markdown",
   "metadata": {},
   "source": [
    "##### Categorical data"
   ]
  },
  {
   "cell_type": "code",
   "execution_count": 34,
   "metadata": {},
   "outputs": [
    {
     "name": "stdout",
     "output_type": "stream",
     "text": [
      "Unique ID column: jobId\n",
      "Feature categorical variables:  ['companyId', 'jobType', 'degree', 'major', 'industry']\n"
     ]
    }
   ],
   "source": [
    "#Define categorical columns\n",
    "categorical_cols = train_data.select_dtypes(include=[object]).columns\n",
    "\n",
    "#Define unique identifier column from 'categorical_cols'\n",
    "unique_id = categorical_cols[0]\n",
    "print('Unique ID column:', unique_id)\n",
    "\n",
    "#Define columns of categorical features\n",
    "feature_categorical_cols = categorical_cols[1:].tolist()\n",
    "print('Feature categorical variables: ', feature_categorical_cols)"
   ]
  },
  {
   "cell_type": "code",
   "execution_count": 35,
   "metadata": {},
   "outputs": [
    {
     "name": "stdout",
     "output_type": "stream",
     "text": [
      "companyId {'COMP55', 'COMP1', 'COMP32', 'COMP6', 'COMP7', 'COMP56', 'COMP21', 'COMP8', 'COMP36', 'COMP17', 'COMP48', 'COMP33', 'COMP30', 'COMP19', 'COMP53', 'COMP15', 'COMP28', 'COMP26', 'COMP10', 'COMP41', 'COMP42', 'COMP2', 'COMP57', 'COMP0', 'COMP60', 'COMP24', 'COMP58', 'COMP16', 'COMP52', 'COMP46', 'COMP38', 'COMP5', 'COMP40', 'COMP35', 'COMP14', 'COMP45', 'COMP29', 'COMP43', 'COMP61', 'COMP31', 'COMP37', 'COMP3', 'COMP11', 'COMP18', 'COMP13', 'COMP62', 'COMP50', 'COMP4', 'COMP51', 'COMP27', 'COMP44', 'COMP59', 'COMP25', 'COMP23', 'COMP22', 'COMP49', 'COMP20', 'COMP54', 'COMP12', 'COMP47', 'COMP39', 'COMP34', 'COMP9'}\n",
      "jobType {'Junior', 'Senior', 'CTO', 'Manager', 'CEO', 'Janitor', 'CFO', 'Vice President'}\n",
      "degree {'High School', 'Bachelors', 'Doctoral', 'None', 'Masters'}\n",
      "major {'Business', 'Math', 'Compsci', 'Engineering', 'None', 'Literature', 'Chemistry', 'Physics', 'Biology'}\n",
      "industry {'Service', 'Education', 'Oil', 'Auto', 'Finance', 'Health', 'Web'}\n"
     ]
    }
   ],
   "source": [
    "#Check irregular unique categories in categorical columns\n",
    "unique_categories(feature_categorical_cols, train_data)"
   ]
  },
  {
   "cell_type": "markdown",
   "metadata": {},
   "source": [
    "Findings:\n",
    "- No invalid categories were found. "
   ]
  },
  {
   "cell_type": "code",
   "execution_count": 36,
   "metadata": {},
   "outputs": [],
   "source": [
    "#Summary statistics for both categorical and numerical columns:\n",
    "    #Define 'categorical_stats' as summary statistics for categoircal columns (top)  \n",
    "    #Define 'numeric_stats' as summary statistics for numerical columns (bottom)  \n",
    "\n",
    "categorical_stats, numeric_stats = col_type_split(train_data)"
   ]
  },
  {
   "cell_type": "code",
   "execution_count": 37,
   "metadata": {
    "scrolled": false
   },
   "outputs": [
    {
     "data": {
      "text/html": [
       "<div>\n",
       "<style scoped>\n",
       "    .dataframe tbody tr th:only-of-type {\n",
       "        vertical-align: middle;\n",
       "    }\n",
       "\n",
       "    .dataframe tbody tr th {\n",
       "        vertical-align: top;\n",
       "    }\n",
       "\n",
       "    .dataframe thead th {\n",
       "        text-align: right;\n",
       "    }\n",
       "</style>\n",
       "<table border=\"1\" class=\"dataframe\">\n",
       "  <thead>\n",
       "    <tr style=\"text-align: right;\">\n",
       "      <th></th>\n",
       "      <th>jobId</th>\n",
       "      <th>companyId</th>\n",
       "      <th>jobType</th>\n",
       "      <th>degree</th>\n",
       "      <th>major</th>\n",
       "      <th>industry</th>\n",
       "    </tr>\n",
       "  </thead>\n",
       "  <tbody>\n",
       "    <tr>\n",
       "      <th>count</th>\n",
       "      <td>1000000</td>\n",
       "      <td>1000000</td>\n",
       "      <td>1000000</td>\n",
       "      <td>1000000</td>\n",
       "      <td>1000000</td>\n",
       "      <td>1000000</td>\n",
       "    </tr>\n",
       "    <tr>\n",
       "      <th>unique</th>\n",
       "      <td>1000000</td>\n",
       "      <td>63</td>\n",
       "      <td>8</td>\n",
       "      <td>5</td>\n",
       "      <td>9</td>\n",
       "      <td>7</td>\n",
       "    </tr>\n",
       "    <tr>\n",
       "      <th>top</th>\n",
       "      <td>JOB1362684607997</td>\n",
       "      <td>COMP39</td>\n",
       "      <td>Senior</td>\n",
       "      <td>High School</td>\n",
       "      <td>None</td>\n",
       "      <td>Web</td>\n",
       "    </tr>\n",
       "    <tr>\n",
       "      <th>freq</th>\n",
       "      <td>1</td>\n",
       "      <td>16193</td>\n",
       "      <td>125886</td>\n",
       "      <td>236976</td>\n",
       "      <td>532355</td>\n",
       "      <td>143206</td>\n",
       "    </tr>\n",
       "  </tbody>\n",
       "</table>\n",
       "</div>"
      ],
      "text/plain": [
       "                   jobId companyId  jobType       degree    major industry\n",
       "count            1000000   1000000  1000000      1000000  1000000  1000000\n",
       "unique           1000000        63        8            5        9        7\n",
       "top     JOB1362684607997    COMP39   Senior  High School     None      Web\n",
       "freq                   1     16193   125886       236976   532355   143206"
      ]
     },
     "metadata": {},
     "output_type": "display_data"
    }
   ],
   "source": [
    "#Summary statistics table for categorical columns\n",
    "display(categorical_stats)"
   ]
  },
  {
   "cell_type": "markdown",
   "metadata": {},
   "source": [
    "##### Numeric data"
   ]
  },
  {
   "cell_type": "code",
   "execution_count": 38,
   "metadata": {},
   "outputs": [
    {
     "data": {
      "text/html": [
       "<div>\n",
       "<style scoped>\n",
       "    .dataframe tbody tr th:only-of-type {\n",
       "        vertical-align: middle;\n",
       "    }\n",
       "\n",
       "    .dataframe tbody tr th {\n",
       "        vertical-align: top;\n",
       "    }\n",
       "\n",
       "    .dataframe thead th {\n",
       "        text-align: right;\n",
       "    }\n",
       "</style>\n",
       "<table border=\"1\" class=\"dataframe\">\n",
       "  <thead>\n",
       "    <tr style=\"text-align: right;\">\n",
       "      <th></th>\n",
       "      <th>yearsExperience</th>\n",
       "      <th>milesFromMetropolis</th>\n",
       "      <th>salary</th>\n",
       "    </tr>\n",
       "  </thead>\n",
       "  <tbody>\n",
       "    <tr>\n",
       "      <th>count</th>\n",
       "      <td>1e+06</td>\n",
       "      <td>1e+06</td>\n",
       "      <td>1e+06</td>\n",
       "    </tr>\n",
       "    <tr>\n",
       "      <th>mean</th>\n",
       "      <td>11.9924</td>\n",
       "      <td>49.5293</td>\n",
       "      <td>116.062</td>\n",
       "    </tr>\n",
       "    <tr>\n",
       "      <th>std</th>\n",
       "      <td>7.21239</td>\n",
       "      <td>28.8777</td>\n",
       "      <td>38.7179</td>\n",
       "    </tr>\n",
       "    <tr>\n",
       "      <th>min</th>\n",
       "      <td>0</td>\n",
       "      <td>0</td>\n",
       "      <td>0</td>\n",
       "    </tr>\n",
       "    <tr>\n",
       "      <th>25%</th>\n",
       "      <td>6</td>\n",
       "      <td>25</td>\n",
       "      <td>88</td>\n",
       "    </tr>\n",
       "    <tr>\n",
       "      <th>50%</th>\n",
       "      <td>12</td>\n",
       "      <td>50</td>\n",
       "      <td>114</td>\n",
       "    </tr>\n",
       "    <tr>\n",
       "      <th>75%</th>\n",
       "      <td>18</td>\n",
       "      <td>75</td>\n",
       "      <td>141</td>\n",
       "    </tr>\n",
       "    <tr>\n",
       "      <th>max</th>\n",
       "      <td>24</td>\n",
       "      <td>99</td>\n",
       "      <td>301</td>\n",
       "    </tr>\n",
       "    <tr>\n",
       "      <th>lower_outlier_check</th>\n",
       "      <td>False</td>\n",
       "      <td>False</td>\n",
       "      <td>True</td>\n",
       "    </tr>\n",
       "    <tr>\n",
       "      <th>lower_outliers</th>\n",
       "      <td>-12</td>\n",
       "      <td>-50</td>\n",
       "      <td>8.5</td>\n",
       "    </tr>\n",
       "    <tr>\n",
       "      <th>upper_outlier_check</th>\n",
       "      <td>False</td>\n",
       "      <td>False</td>\n",
       "      <td>True</td>\n",
       "    </tr>\n",
       "    <tr>\n",
       "      <th>upper_outliers</th>\n",
       "      <td>36</td>\n",
       "      <td>150</td>\n",
       "      <td>220.5</td>\n",
       "    </tr>\n",
       "  </tbody>\n",
       "</table>\n",
       "</div>"
      ],
      "text/plain": [
       "                    yearsExperience milesFromMetropolis   salary\n",
       "count                         1e+06               1e+06    1e+06\n",
       "mean                        11.9924             49.5293  116.062\n",
       "std                         7.21239             28.8777  38.7179\n",
       "min                               0                   0        0\n",
       "25%                               6                  25       88\n",
       "50%                              12                  50      114\n",
       "75%                              18                  75      141\n",
       "max                              24                  99      301\n",
       "lower_outlier_check           False               False     True\n",
       "lower_outliers                  -12                 -50      8.5\n",
       "upper_outlier_check           False               False     True\n",
       "upper_outliers                   36                 150    220.5"
      ]
     },
     "metadata": {},
     "output_type": "display_data"
    }
   ],
   "source": [
    "#Summary statistics table for numeric columns\n",
    "display(numeric_stats)"
   ]
  },
  {
   "cell_type": "markdown",
   "metadata": {},
   "source": [
    "Findings: \n",
    "- 'jobId' is the unique indentifier\n",
    "- No invalid numerical values found: values were all greater than or equal to zero\n",
    "- Suspected lower and upper bound outliers in 'salary'."
   ]
  },
  {
   "cell_type": "markdown",
   "metadata": {},
   "source": [
    "#### Inspect outliers"
   ]
  },
  {
   "cell_type": "markdown",
   "metadata": {},
   "source": [
    "Suspected lower and upper outliers only in 'salary', as shown by the True values in the 'lower_outlier_check' and 'upper_outlier_check' rows in 'numeric_stats' (above)"
   ]
  },
  {
   "cell_type": "code",
   "execution_count": 39,
   "metadata": {},
   "outputs": [],
   "source": [
    "#Define lists to indicate suspected lower and upper outliers\n",
    "check_lower_outliers = []\n",
    "check_upper_outliers = []"
   ]
  },
  {
   "cell_type": "code",
   "execution_count": 40,
   "metadata": {
    "scrolled": true
   },
   "outputs": [
    {
     "name": "stdout",
     "output_type": "stream",
     "text": [
      "yearsExperience has no suspected lower bound outliers\n",
      "milesFromMetropolis has no suspected lower bound outliers\n",
      "Column:  salary \n",
      " No. of suspected lower outliers:  5\n"
     ]
    },
    {
     "data": {
      "text/html": [
       "<div>\n",
       "<style scoped>\n",
       "    .dataframe tbody tr th:only-of-type {\n",
       "        vertical-align: middle;\n",
       "    }\n",
       "\n",
       "    .dataframe tbody tr th {\n",
       "        vertical-align: top;\n",
       "    }\n",
       "\n",
       "    .dataframe thead th {\n",
       "        text-align: right;\n",
       "    }\n",
       "</style>\n",
       "<table border=\"1\" class=\"dataframe\">\n",
       "  <thead>\n",
       "    <tr style=\"text-align: right;\">\n",
       "      <th></th>\n",
       "      <th>jobId</th>\n",
       "      <th>companyId</th>\n",
       "      <th>jobType</th>\n",
       "      <th>degree</th>\n",
       "      <th>major</th>\n",
       "      <th>industry</th>\n",
       "      <th>yearsExperience</th>\n",
       "      <th>milesFromMetropolis</th>\n",
       "      <th>salary</th>\n",
       "    </tr>\n",
       "  </thead>\n",
       "  <tbody>\n",
       "    <tr>\n",
       "      <th>30559</th>\n",
       "      <td>JOB1362684438246</td>\n",
       "      <td>COMP44</td>\n",
       "      <td>Junior</td>\n",
       "      <td>Doctoral</td>\n",
       "      <td>Math</td>\n",
       "      <td>Auto</td>\n",
       "      <td>11</td>\n",
       "      <td>7</td>\n",
       "      <td>0</td>\n",
       "    </tr>\n",
       "    <tr>\n",
       "      <th>495984</th>\n",
       "      <td>JOB1362684903671</td>\n",
       "      <td>COMP34</td>\n",
       "      <td>Junior</td>\n",
       "      <td>None</td>\n",
       "      <td>None</td>\n",
       "      <td>Oil</td>\n",
       "      <td>1</td>\n",
       "      <td>25</td>\n",
       "      <td>0</td>\n",
       "    </tr>\n",
       "    <tr>\n",
       "      <th>652076</th>\n",
       "      <td>JOB1362685059763</td>\n",
       "      <td>COMP25</td>\n",
       "      <td>CTO</td>\n",
       "      <td>High School</td>\n",
       "      <td>None</td>\n",
       "      <td>Auto</td>\n",
       "      <td>6</td>\n",
       "      <td>60</td>\n",
       "      <td>0</td>\n",
       "    </tr>\n",
       "    <tr>\n",
       "      <th>816129</th>\n",
       "      <td>JOB1362685223816</td>\n",
       "      <td>COMP42</td>\n",
       "      <td>Manager</td>\n",
       "      <td>Doctoral</td>\n",
       "      <td>Engineering</td>\n",
       "      <td>Finance</td>\n",
       "      <td>18</td>\n",
       "      <td>6</td>\n",
       "      <td>0</td>\n",
       "    </tr>\n",
       "    <tr>\n",
       "      <th>828156</th>\n",
       "      <td>JOB1362685235843</td>\n",
       "      <td>COMP40</td>\n",
       "      <td>Vice President</td>\n",
       "      <td>Masters</td>\n",
       "      <td>Engineering</td>\n",
       "      <td>Web</td>\n",
       "      <td>3</td>\n",
       "      <td>29</td>\n",
       "      <td>0</td>\n",
       "    </tr>\n",
       "  </tbody>\n",
       "</table>\n",
       "</div>"
      ],
      "text/plain": [
       "                   jobId companyId         jobType       degree        major  \\\n",
       "30559   JOB1362684438246    COMP44          Junior     Doctoral         Math   \n",
       "495984  JOB1362684903671    COMP34          Junior         None         None   \n",
       "652076  JOB1362685059763    COMP25             CTO  High School         None   \n",
       "816129  JOB1362685223816    COMP42         Manager     Doctoral  Engineering   \n",
       "828156  JOB1362685235843    COMP40  Vice President      Masters  Engineering   \n",
       "\n",
       "       industry  yearsExperience  milesFromMetropolis  salary  \n",
       "30559      Auto               11                    7       0  \n",
       "495984      Oil                1                   25       0  \n",
       "652076     Auto                6                   60       0  \n",
       "816129  Finance               18                    6       0  \n",
       "828156      Web                3                   29       0  "
      ]
     },
     "metadata": {},
     "output_type": "display_data"
    }
   ],
   "source": [
    "#View suspected lower bound outliers\n",
    "lower_outliers(numeric_stats, train_data)"
   ]
  },
  {
   "cell_type": "code",
   "execution_count": 41,
   "metadata": {
    "scrolled": false
   },
   "outputs": [
    {
     "name": "stdout",
     "output_type": "stream",
     "text": [
      "yearsExperience has no suspected upper bound outliers\n",
      "milesFromMetropolis has no suspected upper bound outliers\n",
      "Column:  salary \n",
      " No. of suspected upper outliers:  7117\n"
     ]
    },
    {
     "data": {
      "text/html": [
       "<div>\n",
       "<style scoped>\n",
       "    .dataframe tbody tr th:only-of-type {\n",
       "        vertical-align: middle;\n",
       "    }\n",
       "\n",
       "    .dataframe tbody tr th {\n",
       "        vertical-align: top;\n",
       "    }\n",
       "\n",
       "    .dataframe thead th {\n",
       "        text-align: right;\n",
       "    }\n",
       "</style>\n",
       "<table border=\"1\" class=\"dataframe\">\n",
       "  <thead>\n",
       "    <tr style=\"text-align: right;\">\n",
       "      <th></th>\n",
       "      <th>jobId</th>\n",
       "      <th>companyId</th>\n",
       "      <th>jobType</th>\n",
       "      <th>degree</th>\n",
       "      <th>major</th>\n",
       "      <th>industry</th>\n",
       "      <th>yearsExperience</th>\n",
       "      <th>milesFromMetropolis</th>\n",
       "      <th>salary</th>\n",
       "    </tr>\n",
       "  </thead>\n",
       "  <tbody>\n",
       "    <tr>\n",
       "      <th>266</th>\n",
       "      <td>JOB1362684407953</td>\n",
       "      <td>COMP30</td>\n",
       "      <td>CEO</td>\n",
       "      <td>Masters</td>\n",
       "      <td>Biology</td>\n",
       "      <td>Oil</td>\n",
       "      <td>23</td>\n",
       "      <td>60</td>\n",
       "      <td>223</td>\n",
       "    </tr>\n",
       "    <tr>\n",
       "      <th>362</th>\n",
       "      <td>JOB1362684408049</td>\n",
       "      <td>COMP38</td>\n",
       "      <td>CTO</td>\n",
       "      <td>Masters</td>\n",
       "      <td>None</td>\n",
       "      <td>Health</td>\n",
       "      <td>24</td>\n",
       "      <td>3</td>\n",
       "      <td>223</td>\n",
       "    </tr>\n",
       "    <tr>\n",
       "      <th>560</th>\n",
       "      <td>JOB1362684408247</td>\n",
       "      <td>COMP53</td>\n",
       "      <td>CEO</td>\n",
       "      <td>Masters</td>\n",
       "      <td>Biology</td>\n",
       "      <td>Web</td>\n",
       "      <td>22</td>\n",
       "      <td>7</td>\n",
       "      <td>248</td>\n",
       "    </tr>\n",
       "    <tr>\n",
       "      <th>670</th>\n",
       "      <td>JOB1362684408357</td>\n",
       "      <td>COMP26</td>\n",
       "      <td>CEO</td>\n",
       "      <td>Masters</td>\n",
       "      <td>Math</td>\n",
       "      <td>Auto</td>\n",
       "      <td>23</td>\n",
       "      <td>9</td>\n",
       "      <td>240</td>\n",
       "    </tr>\n",
       "    <tr>\n",
       "      <th>719</th>\n",
       "      <td>JOB1362684408406</td>\n",
       "      <td>COMP54</td>\n",
       "      <td>Vice President</td>\n",
       "      <td>Doctoral</td>\n",
       "      <td>Biology</td>\n",
       "      <td>Oil</td>\n",
       "      <td>21</td>\n",
       "      <td>14</td>\n",
       "      <td>225</td>\n",
       "    </tr>\n",
       "    <tr>\n",
       "      <th>...</th>\n",
       "      <td>...</td>\n",
       "      <td>...</td>\n",
       "      <td>...</td>\n",
       "      <td>...</td>\n",
       "      <td>...</td>\n",
       "      <td>...</td>\n",
       "      <td>...</td>\n",
       "      <td>...</td>\n",
       "      <td>...</td>\n",
       "    </tr>\n",
       "    <tr>\n",
       "      <th>998516</th>\n",
       "      <td>JOB1362685406203</td>\n",
       "      <td>COMP29</td>\n",
       "      <td>CFO</td>\n",
       "      <td>Masters</td>\n",
       "      <td>Engineering</td>\n",
       "      <td>Web</td>\n",
       "      <td>14</td>\n",
       "      <td>46</td>\n",
       "      <td>227</td>\n",
       "    </tr>\n",
       "    <tr>\n",
       "      <th>999249</th>\n",
       "      <td>JOB1362685406936</td>\n",
       "      <td>COMP30</td>\n",
       "      <td>CEO</td>\n",
       "      <td>None</td>\n",
       "      <td>None</td>\n",
       "      <td>Oil</td>\n",
       "      <td>17</td>\n",
       "      <td>10</td>\n",
       "      <td>223</td>\n",
       "    </tr>\n",
       "    <tr>\n",
       "      <th>999280</th>\n",
       "      <td>JOB1362685406967</td>\n",
       "      <td>COMP2</td>\n",
       "      <td>CFO</td>\n",
       "      <td>Bachelors</td>\n",
       "      <td>Business</td>\n",
       "      <td>Service</td>\n",
       "      <td>21</td>\n",
       "      <td>0</td>\n",
       "      <td>228</td>\n",
       "    </tr>\n",
       "    <tr>\n",
       "      <th>999670</th>\n",
       "      <td>JOB1362685407357</td>\n",
       "      <td>COMP20</td>\n",
       "      <td>CEO</td>\n",
       "      <td>Doctoral</td>\n",
       "      <td>Literature</td>\n",
       "      <td>Service</td>\n",
       "      <td>24</td>\n",
       "      <td>14</td>\n",
       "      <td>233</td>\n",
       "    </tr>\n",
       "    <tr>\n",
       "      <th>999893</th>\n",
       "      <td>JOB1362685407580</td>\n",
       "      <td>COMP9</td>\n",
       "      <td>CEO</td>\n",
       "      <td>Doctoral</td>\n",
       "      <td>Engineering</td>\n",
       "      <td>Finance</td>\n",
       "      <td>17</td>\n",
       "      <td>33</td>\n",
       "      <td>237</td>\n",
       "    </tr>\n",
       "  </tbody>\n",
       "</table>\n",
       "<p>7117 rows × 9 columns</p>\n",
       "</div>"
      ],
      "text/plain": [
       "                   jobId companyId         jobType     degree        major  \\\n",
       "266     JOB1362684407953    COMP30             CEO    Masters      Biology   \n",
       "362     JOB1362684408049    COMP38             CTO    Masters         None   \n",
       "560     JOB1362684408247    COMP53             CEO    Masters      Biology   \n",
       "670     JOB1362684408357    COMP26             CEO    Masters         Math   \n",
       "719     JOB1362684408406    COMP54  Vice President   Doctoral      Biology   \n",
       "...                  ...       ...             ...        ...          ...   \n",
       "998516  JOB1362685406203    COMP29             CFO    Masters  Engineering   \n",
       "999249  JOB1362685406936    COMP30             CEO       None         None   \n",
       "999280  JOB1362685406967     COMP2             CFO  Bachelors     Business   \n",
       "999670  JOB1362685407357    COMP20             CEO   Doctoral   Literature   \n",
       "999893  JOB1362685407580     COMP9             CEO   Doctoral  Engineering   \n",
       "\n",
       "       industry  yearsExperience  milesFromMetropolis  salary  \n",
       "266         Oil               23                   60     223  \n",
       "362      Health               24                    3     223  \n",
       "560         Web               22                    7     248  \n",
       "670        Auto               23                    9     240  \n",
       "719         Oil               21                   14     225  \n",
       "...         ...              ...                  ...     ...  \n",
       "998516      Web               14                   46     227  \n",
       "999249      Oil               17                   10     223  \n",
       "999280  Service               21                    0     228  \n",
       "999670  Service               24                   14     233  \n",
       "999893  Finance               17                   33     237  \n",
       "\n",
       "[7117 rows x 9 columns]"
      ]
     },
     "metadata": {},
     "output_type": "display_data"
    }
   ],
   "source": [
    "#View suspected upper bound outliers\n",
    "upper_outliers(numeric_stats, train_data)"
   ]
  },
  {
   "cell_type": "markdown",
   "metadata": {},
   "source": [
    "Findings:\n",
    "- only 5 from 1 million individuals potentially missing salary inputs - can drop the small number of individuals \n",
    "- 7,117 suspected upper outliers require further exploration - 7,117 of 1 million individuals is not signifcantly large."
   ]
  },
  {
   "cell_type": "code",
   "execution_count": 42,
   "metadata": {
    "scrolled": false
   },
   "outputs": [
    {
     "name": "stdout",
     "output_type": "stream",
     "text": [
      "Columns to inspect for suspected lower outliers:  ['salary']\n",
      "Columns to inspect for suspected upper outliers:  ['salary']\n"
     ]
    }
   ],
   "source": [
    "#Confirm columns to inspect suspected outliers\n",
    "print('Columns to inspect for suspected lower outliers: ', check_lower_outliers)\n",
    "print('Columns to inspect for suspected upper outliers: ', check_upper_outliers)"
   ]
  },
  {
   "cell_type": "code",
   "execution_count": 43,
   "metadata": {
    "scrolled": true
   },
   "outputs": [
    {
     "data": {
      "image/png": "[encoded data removed]",
      "text/plain": [
       "<Figure size 432x288 with 1 Axes>"
      ]
     },
     "metadata": {
      "needs_background": "light"
     },
     "output_type": "display_data"
    },
    {
     "data": {
      "image/png": "[encoded data removed]",
      "text/plain": [
       "<Figure size 432x288 with 1 Axes>"
      ]
     },
     "metadata": {
      "needs_background": "light"
     },
     "output_type": "display_data"
    },
    {
     "data": {
      "image/png": "[encoded data removed]",
      "text/plain": [
       "<Figure size 432x288 with 1 Axes>"
      ]
     },
     "metadata": {
      "needs_background": "light"
     },
     "output_type": "display_data"
    },
    {
     "data": {
      "image/png": "[encoded data removed]",
      "text/plain": [
       "<Figure size 432x288 with 1 Axes>"
      ]
     },
     "metadata": {
      "needs_background": "light"
     },
     "output_type": "display_data"
    },
    {
     "data": {
      "image/png": "[encoded data removed]",
      "text/plain": [
       "<Figure size 432x288 with 1 Axes>"
      ]
     },
     "metadata": {
      "needs_background": "light"
     },
     "output_type": "display_data"
    }
   ],
   "source": [
    "#Plots to explore upper outliers as per category\n",
    "for i in check_upper_outliers: \n",
    "    for j in feature_categorical_cols:\n",
    "        plt.title(i+': upper outliers for '+j)   \n",
    "        upper_outliers_count(i,j,train_data)\n",
    "        filename = str('upper outliers for: ' +j)\n",
    "        plt.savefig('upper_outliers_'+j+'_'+i+'.png')\n",
    "        plt.close()"
   ]
  },
  {
   "cell_type": "markdown",
   "metadata": {},
   "source": [
    "Findings:\n",
    "- Lower-bound outliers: \n",
    "    - Not helpful to predict 'salary'\n",
    "    - Potentially missing inputs and were treated as 0\n",
    "    - Dropping 5 observations in 1m observations in data would not make significant impact.\n",
    "\n",
    "- Upper-bound outliers: \n",
    "    - Not much out of 1 million individuals (7,117 indivduals)\n",
    "    - Tend to be higher-up positions and degrees \n",
    "    - Tend to major in Engineering and Business\n",
    "    - Most likely in the Oil and Finance industries \n",
    "    - Outliers make sense - no further actions needed to treat these outliers. "
   ]
  },
  {
   "cell_type": "code",
   "execution_count": 44,
   "metadata": {
    "scrolled": false
   },
   "outputs": [
    {
     "name": "stdout",
     "output_type": "stream",
     "text": [
      "(999995, 9)\n"
     ]
    },
    {
     "data": {
      "text/html": [
       "<div>\n",
       "<style scoped>\n",
       "    .dataframe tbody tr th:only-of-type {\n",
       "        vertical-align: middle;\n",
       "    }\n",
       "\n",
       "    .dataframe tbody tr th {\n",
       "        vertical-align: top;\n",
       "    }\n",
       "\n",
       "    .dataframe thead th {\n",
       "        text-align: right;\n",
       "    }\n",
       "</style>\n",
       "<table border=\"1\" class=\"dataframe\">\n",
       "  <thead>\n",
       "    <tr style=\"text-align: right;\">\n",
       "      <th></th>\n",
       "      <th>jobId</th>\n",
       "      <th>companyId</th>\n",
       "      <th>jobType</th>\n",
       "      <th>degree</th>\n",
       "      <th>major</th>\n",
       "      <th>industry</th>\n",
       "      <th>yearsExperience</th>\n",
       "      <th>milesFromMetropolis</th>\n",
       "      <th>salary</th>\n",
       "    </tr>\n",
       "  </thead>\n",
       "  <tbody>\n",
       "    <tr>\n",
       "      <th>141942</th>\n",
       "      <td>JOB1362684549629</td>\n",
       "      <td>COMP27</td>\n",
       "      <td>Janitor</td>\n",
       "      <td>None</td>\n",
       "      <td>None</td>\n",
       "      <td>Education</td>\n",
       "      <td>0</td>\n",
       "      <td>98</td>\n",
       "      <td>17</td>\n",
       "    </tr>\n",
       "    <tr>\n",
       "      <th>188931</th>\n",
       "      <td>JOB1362684596618</td>\n",
       "      <td>COMP26</td>\n",
       "      <td>Janitor</td>\n",
       "      <td>High School</td>\n",
       "      <td>None</td>\n",
       "      <td>Education</td>\n",
       "      <td>1</td>\n",
       "      <td>96</td>\n",
       "      <td>18</td>\n",
       "    </tr>\n",
       "    <tr>\n",
       "      <th>807108</th>\n",
       "      <td>JOB1362685214795</td>\n",
       "      <td>COMP29</td>\n",
       "      <td>Janitor</td>\n",
       "      <td>High School</td>\n",
       "      <td>None</td>\n",
       "      <td>Education</td>\n",
       "      <td>0</td>\n",
       "      <td>92</td>\n",
       "      <td>18</td>\n",
       "    </tr>\n",
       "    <tr>\n",
       "      <th>482429</th>\n",
       "      <td>JOB1362684890116</td>\n",
       "      <td>COMP46</td>\n",
       "      <td>Janitor</td>\n",
       "      <td>None</td>\n",
       "      <td>None</td>\n",
       "      <td>Education</td>\n",
       "      <td>0</td>\n",
       "      <td>92</td>\n",
       "      <td>18</td>\n",
       "    </tr>\n",
       "    <tr>\n",
       "      <th>798142</th>\n",
       "      <td>JOB1362685205829</td>\n",
       "      <td>COMP38</td>\n",
       "      <td>Janitor</td>\n",
       "      <td>None</td>\n",
       "      <td>None</td>\n",
       "      <td>Education</td>\n",
       "      <td>0</td>\n",
       "      <td>75</td>\n",
       "      <td>19</td>\n",
       "    </tr>\n",
       "  </tbody>\n",
       "</table>\n",
       "</div>"
      ],
      "text/plain": [
       "                   jobId companyId  jobType       degree major   industry  \\\n",
       "141942  JOB1362684549629    COMP27  Janitor         None  None  Education   \n",
       "188931  JOB1362684596618    COMP26  Janitor  High School  None  Education   \n",
       "807108  JOB1362685214795    COMP29  Janitor  High School  None  Education   \n",
       "482429  JOB1362684890116    COMP46  Janitor         None  None  Education   \n",
       "798142  JOB1362685205829    COMP38  Janitor         None  None  Education   \n",
       "\n",
       "        yearsExperience  milesFromMetropolis  salary  \n",
       "141942                0                   98      17  \n",
       "188931                1                   96      18  \n",
       "807108                0                   92      18  \n",
       "482429                0                   92      18  \n",
       "798142                0                   75      19  "
      ]
     },
     "execution_count": 44,
     "metadata": {},
     "output_type": "execute_result"
    }
   ],
   "source": [
    "#Drop lower-bound outliers (salary < 8.5)\n",
    "train_data = train_data[train_data['salary'] > 8.5]\n",
    "print(train_data.shape)\n",
    "train_data.sort_values('salary').head()"
   ]
  },
  {
   "cell_type": "markdown",
   "metadata": {},
   "source": [
    "### Exploratory Data Analysis (EDA)\n",
    "EDA was performed differently between salary (target variable) and the feature numeric and categorical variables. The analysis involves a deeper and visual understanding of the different categories, distributions and relationships each variable has with salary, as well as the distribution of salary itself. In addition, a correlation heatmap is included to indicate correlations between each variable after converting the categorical variables into numeric variables of the average salaries for each category. "
   ]
  },
  {
   "cell_type": "code",
   "execution_count": 45,
   "metadata": {},
   "outputs": [
    {
     "data": {
      "text/plain": [
       "jobId                  object\n",
       "companyId              object\n",
       "jobType                object\n",
       "degree                 object\n",
       "major                  object\n",
       "industry               object\n",
       "yearsExperience         int64\n",
       "milesFromMetropolis     int64\n",
       "salary                  int64\n",
       "dtype: object"
      ]
     },
     "execution_count": 45,
     "metadata": {},
     "output_type": "execute_result"
    }
   ],
   "source": [
    "#View data types\n",
    "train_data.dtypes"
   ]
  },
  {
   "cell_type": "markdown",
   "metadata": {},
   "source": [
    "#### Definitions\n",
    "- Numeric variables:\n",
    "    - Target variable ('salary')\n",
    "    - Numeric features ('yearsExperience', 'milesFromMetropolis')\n",
    "- Categorical variables:\n",
    "    - Unique identifier ('jobId')\n",
    "    - Categorical features ('companyId','jobType','degree','major','industry')"
   ]
  },
  {
   "cell_type": "code",
   "execution_count": 46,
   "metadata": {
    "scrolled": true
   },
   "outputs": [
    {
     "name": "stdout",
     "output_type": "stream",
     "text": [
      "Target variable:  salary\n",
      "Numeric feature variables:  ['yearsExperience', 'milesFromMetropolis']\n"
     ]
    }
   ],
   "source": [
    "#Define numeric columns\n",
    "numeric_cols = train_data.select_dtypes(include=['number']).columns\n",
    "\n",
    "#Define numeric target column\n",
    "target_col = numeric_cols[-1]\n",
    "print('Target variable: ', target_col)\n",
    "\n",
    "#Define numeric feature columns\n",
    "feature_numeric_cols = numeric_cols[:-1].tolist()\n",
    "print('Numeric feature variables: ', feature_numeric_cols)"
   ]
  },
  {
   "cell_type": "code",
   "execution_count": 47,
   "metadata": {},
   "outputs": [
    {
     "name": "stdout",
     "output_type": "stream",
     "text": [
      "All categorical columns:  Index(['jobId', 'companyId', 'jobType', 'degree', 'major', 'industry'], dtype='object')\n",
      "Unique ID:  jobId\n",
      "Categorical feature variables:  ['companyId', 'jobType', 'degree', 'major', 'industry']\n"
     ]
    }
   ],
   "source": [
    "#Categorical columns (from section above)\n",
    "print('All categorical columns: ', categorical_cols)\n",
    "\n",
    "#Print results from splitting categorical columns as: unique IDs and categorical feature variables \n",
    "print('Unique ID: ', unique_id)\n",
    "print('Categorical feature variables: ', feature_categorical_cols)"
   ]
  },
  {
   "cell_type": "markdown",
   "metadata": {},
   "source": [
    "#### Numeric Data EDA"
   ]
  },
  {
   "cell_type": "code",
   "execution_count": 48,
   "metadata": {
    "scrolled": false
   },
   "outputs": [
    {
     "data": {
      "text/plain": [
       "<Figure size 432x288 with 0 Axes>"
      ]
     },
     "metadata": {},
     "output_type": "display_data"
    },
    {
     "data": {
      "image/png": "[encoded data removed]",
      "text/plain": [
       "<Figure size 720x360 with 2 Axes>"
      ]
     },
     "metadata": {
      "needs_background": "light"
     },
     "output_type": "display_data"
    }
   ],
   "source": [
    "#Numeric target variable ('salary') plots\n",
    "numeric_target_plots('salary', train_data)"
   ]
  },
  {
   "cell_type": "markdown",
   "metadata": {},
   "source": [
    "Findings: \n",
    "- Salary appears mostly as a normal distribution but slightly skewed right."
   ]
  },
  {
   "cell_type": "code",
   "execution_count": 49,
   "metadata": {
    "scrolled": true
   },
   "outputs": [
    {
     "data": {
      "text/plain": [
       "<Figure size 432x288 with 0 Axes>"
      ]
     },
     "metadata": {},
     "output_type": "display_data"
    },
    {
     "data": {
      "image/png": "[encoded data removed]",
      "text/plain": [
       "<Figure size 720x360 with 3 Axes>"
      ]
     },
     "metadata": {
      "needs_background": "light"
     },
     "output_type": "display_data"
    },
    {
     "data": {
      "text/plain": [
       "<Figure size 432x288 with 0 Axes>"
      ]
     },
     "metadata": {},
     "output_type": "display_data"
    },
    {
     "data": {
      "image/png": "[encoded data removed]",
      "text/plain": [
       "<Figure size 720x360 with 3 Axes>"
      ]
     },
     "metadata": {
      "needs_background": "light"
     },
     "output_type": "display_data"
    }
   ],
   "source": [
    "#Numeric feature variable plots\n",
    "for col in feature_numeric_cols:\n",
    "    numeric_feature_plots(col, 'salary', train_data)"
   ]
  },
  {
   "cell_type": "markdown",
   "metadata": {},
   "source": [
    "Findings: \n",
    "- CompanyId does not show correlation with salary\n",
    "- Years of experience has a positive linear correlation with salary\n",
    "- Miles from Metropolis has a negative linear correlation with salary."
   ]
  },
  {
   "cell_type": "markdown",
   "metadata": {},
   "source": [
    "#### Categorical Data"
   ]
  },
  {
   "cell_type": "code",
   "execution_count": 50,
   "metadata": {},
   "outputs": [
    {
     "data": {
      "text/plain": [
       "<Figure size 432x288 with 0 Axes>"
      ]
     },
     "metadata": {},
     "output_type": "display_data"
    },
    {
     "data": {
      "image/png": "[encoded data removed]",
      "text/plain": [
       "<Figure size 720x360 with 2 Axes>"
      ]
     },
     "metadata": {
      "needs_background": "light"
     },
     "output_type": "display_data"
    },
    {
     "data": {
      "text/plain": [
       "<Figure size 432x288 with 0 Axes>"
      ]
     },
     "metadata": {},
     "output_type": "display_data"
    },
    {
     "data": {
      "image/png": "[encoded data removed]",
      "text/plain": [
       "<Figure size 720x360 with 2 Axes>"
      ]
     },
     "metadata": {
      "needs_background": "light"
     },
     "output_type": "display_data"
    },
    {
     "data": {
      "text/plain": [
       "<Figure size 432x288 with 0 Axes>"
      ]
     },
     "metadata": {},
     "output_type": "display_data"
    },
    {
     "data": {
      "image/png": "[encoded data removed]",
      "text/plain": [
       "<Figure size 720x360 with 2 Axes>"
      ]
     },
     "metadata": {
      "needs_background": "light"
     },
     "output_type": "display_data"
    },
    {
     "data": {
      "text/plain": [
       "<Figure size 432x288 with 0 Axes>"
      ]
     },
     "metadata": {},
     "output_type": "display_data"
    },
    {
     "data": {
      "image/png": "[encoded data removed]",
      "text/plain": [
       "<Figure size 720x360 with 2 Axes>"
      ]
     },
     "metadata": {
      "needs_background": "light"
     },
     "output_type": "display_data"
    },
    {
     "data": {
      "text/plain": [
       "<Figure size 432x288 with 0 Axes>"
      ]
     },
     "metadata": {},
     "output_type": "display_data"
    },
    {
     "data": {
      "image/png": "[encoded data removed]",
      "text/plain": [
       "<Figure size 720x360 with 2 Axes>"
      ]
     },
     "metadata": {
      "needs_background": "light"
     },
     "output_type": "display_data"
    }
   ],
   "source": [
    "for col in feature_categorical_cols:\n",
    "    categorical_feature_plots(col, 'salary', train_data)"
   ]
  },
  {
   "cell_type": "markdown",
   "metadata": {},
   "source": [
    "Findings: \n",
    "- Companies show no collinearity with salary\n",
    "- Higher positions tend to have higher salary\n",
    "- Higher degrees tend to have higher salary\n",
    "- While most individuals do not have a major, engineering and business are the majors that are likely to have higher salary\n",
    "- Oil and finance industries tend to have higher salary than other industries. "
   ]
  },
  {
   "cell_type": "markdown",
   "metadata": {},
   "source": [
    "#### Correlations - heatmap"
   ]
  },
  {
   "cell_type": "markdown",
   "metadata": {},
   "source": [
    "The average salary as per category within each category variable, i.e. object types within the train_data (exc. jobId), were applied in the following heatmap containing correlations across each variable within the dataset. The following steps involved were to: 1) Create copy of train_data; and 2) Convert (and replace) object each column into each categories' average salaries. For example, in the jobType column, CEOs now share value of the CEO's average salaries instead of 'CEO'. "
   ]
  },
  {
   "cell_type": "code",
   "execution_count": 51,
   "metadata": {},
   "outputs": [
    {
     "data": {
      "text/plain": [
       "['companyId', 'jobType', 'degree', 'major', 'industry']"
      ]
     },
     "execution_count": 51,
     "metadata": {},
     "output_type": "execute_result"
    }
   ],
   "source": [
    "#Feature categorical variables (defined previously)\n",
    "feature_categorical_cols"
   ]
  },
  {
   "cell_type": "code",
   "execution_count": 52,
   "metadata": {},
   "outputs": [],
   "source": [
    "#Create copy of train_data\n",
    "train_data_copy = train_data.copy()"
   ]
  },
  {
   "cell_type": "code",
   "execution_count": 53,
   "metadata": {
    "scrolled": true
   },
   "outputs": [],
   "source": [
    "#Convert and replace category values into each categories' average salaries for each categorical variable\n",
    "for i in feature_categorical_cols: \n",
    "    train_data_copy[i] = train_data.groupby(by=i)['salary'].transform('mean')"
   ]
  },
  {
   "cell_type": "code",
   "execution_count": 54,
   "metadata": {},
   "outputs": [
    {
     "data": {
      "text/html": [
       "<div>\n",
       "<style scoped>\n",
       "    .dataframe tbody tr th:only-of-type {\n",
       "        vertical-align: middle;\n",
       "    }\n",
       "\n",
       "    .dataframe tbody tr th {\n",
       "        vertical-align: top;\n",
       "    }\n",
       "\n",
       "    .dataframe thead th {\n",
       "        text-align: right;\n",
       "    }\n",
       "</style>\n",
       "<table border=\"1\" class=\"dataframe\">\n",
       "  <thead>\n",
       "    <tr style=\"text-align: right;\">\n",
       "      <th></th>\n",
       "      <th>jobId</th>\n",
       "      <th>companyId</th>\n",
       "      <th>jobType</th>\n",
       "      <th>degree</th>\n",
       "      <th>major</th>\n",
       "      <th>industry</th>\n",
       "      <th>yearsExperience</th>\n",
       "      <th>milesFromMetropolis</th>\n",
       "      <th>salary</th>\n",
       "    </tr>\n",
       "  </thead>\n",
       "  <tbody>\n",
       "    <tr>\n",
       "      <th>0</th>\n",
       "      <td>JOB1362684407687</td>\n",
       "      <td>115.345049</td>\n",
       "      <td>135.458547</td>\n",
       "      <td>130.505647</td>\n",
       "      <td>133.322042</td>\n",
       "      <td>115.735540</td>\n",
       "      <td>10</td>\n",
       "      <td>83</td>\n",
       "      <td>130</td>\n",
       "    </tr>\n",
       "    <tr>\n",
       "      <th>1</th>\n",
       "      <td>JOB1362684407688</td>\n",
       "      <td>115.756548</td>\n",
       "      <td>145.311425</td>\n",
       "      <td>101.921085</td>\n",
       "      <td>102.583864</td>\n",
       "      <td>121.645362</td>\n",
       "      <td>3</td>\n",
       "      <td>73</td>\n",
       "      <td>101</td>\n",
       "    </tr>\n",
       "    <tr>\n",
       "      <th>2</th>\n",
       "      <td>JOB1362684407689</td>\n",
       "      <td>116.224249</td>\n",
       "      <td>125.368630</td>\n",
       "      <td>135.490979</td>\n",
       "      <td>130.372436</td>\n",
       "      <td>115.735540</td>\n",
       "      <td>10</td>\n",
       "      <td>38</td>\n",
       "      <td>137</td>\n",
       "    </tr>\n",
       "    <tr>\n",
       "      <th>3</th>\n",
       "      <td>JOB1362684407690</td>\n",
       "      <td>116.199380</td>\n",
       "      <td>115.368518</td>\n",
       "      <td>135.490979</td>\n",
       "      <td>129.072085</td>\n",
       "      <td>109.435222</td>\n",
       "      <td>8</td>\n",
       "      <td>17</td>\n",
       "      <td>142</td>\n",
       "    </tr>\n",
       "    <tr>\n",
       "      <th>4</th>\n",
       "      <td>JOB1362684407691</td>\n",
       "      <td>115.888501</td>\n",
       "      <td>125.368630</td>\n",
       "      <td>125.454663</td>\n",
       "      <td>130.372436</td>\n",
       "      <td>130.747659</td>\n",
       "      <td>8</td>\n",
       "      <td>16</td>\n",
       "      <td>163</td>\n",
       "    </tr>\n",
       "  </tbody>\n",
       "</table>\n",
       "</div>"
      ],
      "text/plain": [
       "              jobId   companyId     jobType      degree       major  \\\n",
       "0  JOB1362684407687  115.345049  135.458547  130.505647  133.322042   \n",
       "1  JOB1362684407688  115.756548  145.311425  101.921085  102.583864   \n",
       "2  JOB1362684407689  116.224249  125.368630  135.490979  130.372436   \n",
       "3  JOB1362684407690  116.199380  115.368518  135.490979  129.072085   \n",
       "4  JOB1362684407691  115.888501  125.368630  125.454663  130.372436   \n",
       "\n",
       "     industry  yearsExperience  milesFromMetropolis  salary  \n",
       "0  115.735540               10                   83     130  \n",
       "1  121.645362                3                   73     101  \n",
       "2  115.735540               10                   38     137  \n",
       "3  109.435222                8                   17     142  \n",
       "4  130.747659                8                   16     163  "
      ]
     },
     "execution_count": 54,
     "metadata": {},
     "output_type": "execute_result"
    }
   ],
   "source": [
    "#View top five rows\n",
    "train_data_copy.head()"
   ]
  },
  {
   "cell_type": "code",
   "execution_count": 55,
   "metadata": {
    "scrolled": false
   },
   "outputs": [
    {
     "data": {
      "image/png": "[encoded data removed]",
      "text/plain": [
       "<Figure size 864x720 with 2 Axes>"
      ]
     },
     "metadata": {
      "needs_background": "light"
     },
     "output_type": "display_data"
    }
   ],
   "source": [
    "#Correlation heatmap\n",
    "plt.figure(figsize=(12, 10))\n",
    "sns.heatmap(train_data_copy.corr(),cmap='Blues',annot=True)\n",
    "plt.xticks(rotation=45)\n",
    "plt.savefig('corr_heatmap.png')\n",
    "plt.show()"
   ]
  },
  {
   "cell_type": "markdown",
   "metadata": {},
   "source": [
    "Findings:\n",
    "- Variable correlations with salary:\n",
    "    - There is no significant correlation between companies (companyId) and salary. \n",
    "    - Job position (jobType) is the variable that positively correlates most to salary, followed by degree (degree), years of experience (yearsExperience) and major (major). \n",
    "    - There is also slight positive correlations between the job industry (industry) and salary. \n",
    "    - Only key negative correlation of salary is the miles from metropolis (milesFromMetropolis). \n",
    "- Correlations between feature variables: \n",
    "    - There is a significant positive correlation between major and degree (0.85).\n",
    "    - Job positions are slightly positively correlated to both major and degree. \n",
    "    - No other collinearity is shown across the feature variables - they are all close to zero."
   ]
  },
  {
   "cell_type": "markdown",
   "metadata": {},
   "source": [
    "### Modelling"
   ]
  },
  {
   "cell_type": "markdown",
   "metadata": {},
   "source": [
    "A baseline model is created first as a benchmark to gauge the mean squared error (MSE). MSE is selected as the model evaluation metric and the modelling below follows a 5-fold cross-validation. \n",
    "\n",
    "The following hypothesised solutions are designed to improve the results, i.e. lowering the MSE, with the best solutions tuned further in hopes of improving the models below a targeted MSE. "
   ]
  },
  {
   "cell_type": "markdown",
   "metadata": {},
   "source": [
    "#### Baseline"
   ]
  },
  {
   "cell_type": "markdown",
   "metadata": {},
   "source": [
    "- Create a baseline model and measure MSE as a baseline for evaluating model accuracy.\n",
    "- The baseline model here is a linear regression that includes the average salaries of each category within each category variable."
   ]
  },
  {
   "cell_type": "code",
   "execution_count": 56,
   "metadata": {},
   "outputs": [],
   "source": [
    "#Define baseline target and feature variables\n",
    "baseline_cols = train_data_copy.columns\n",
    "#Baseline feature variables (columns) do not include jobId (unique identifier) nor the target variable (Salary) \n",
    "baseline_features_cols = baseline_cols[1:-1]\n",
    "#Target variable, Salary referenced in the last column\n",
    "baseline_target_cols = baseline_cols[-1:]"
   ]
  },
  {
   "cell_type": "code",
   "execution_count": 58,
   "metadata": {},
   "outputs": [
    {
     "name": "stdout",
     "output_type": "stream",
     "text": [
      "Average Baseline MSE Score:  399.1237501025735\n",
      "Baseline MSE Score Standard Deviation:  1.856272658305156\n"
     ]
    }
   ],
   "source": [
    "#Baseline model\n",
    "lr = LinearRegression()\n",
    "baseline_neg_mse = cross_val_score(lr, train_data_copy[baseline_features_cols], \n",
    "                                   train_data_copy[baseline_target_cols], cv=5, scoring='neg_mean_squared_error')\n",
    "baseline_mse_mean = -1*baseline_neg_mse.mean()\n",
    "baseline_mse_std = baseline_neg_mse.std()\n",
    "\n",
    "print(\"Average Baseline MSE Score: \", baseline_mse_mean)\n",
    "print(\"Baseline MSE Score Standard Deviation: \", baseline_mse_std)"
   ]
  },
  {
   "cell_type": "markdown",
   "metadata": {},
   "source": [
    "#### Models"
   ]
  },
  {
   "cell_type": "markdown",
   "metadata": {},
   "source": [
    "The dataframe is updated to improve results: \n",
    "- One hot encoding of the categorical feature variables: 'companyId', 'jobType', 'degree', major' and 'industry'\n",
    "- Normalising the numeric feature variables - 'yearsExperience', 'milesFromMetropolis'.\n",
    "\n",
    "After normalising and one-hot-encoding the features, the hypothesised solutions (below) were tested and compared with the baseline to improve results (lower MSEs). The objective here is to find the best model that has mean square error below 360.\n",
    "\n",
    "Regressions: \n",
    "- Linear Regression\n",
    "- Lasso Regression \n",
    "- Ridge Regression \n",
    "\n",
    "Regression Trees:\n",
    "- Decision Tree Regressor\n",
    "- Random Tree Regressor*\n",
    "- Gradient Boosting Regressor\n",
    "\n",
    "*Note: n_estimators were applied due to memory errors and not time-efficient to run vanilla"
   ]
  },
  {
   "cell_type": "code",
   "execution_count": 59,
   "metadata": {
    "scrolled": true
   },
   "outputs": [
    {
     "name": "stdout",
     "output_type": "stream",
     "text": [
      "(999995, 9)\n"
     ]
    },
    {
     "data": {
      "text/html": [
       "<div>\n",
       "<style scoped>\n",
       "    .dataframe tbody tr th:only-of-type {\n",
       "        vertical-align: middle;\n",
       "    }\n",
       "\n",
       "    .dataframe tbody tr th {\n",
       "        vertical-align: top;\n",
       "    }\n",
       "\n",
       "    .dataframe thead th {\n",
       "        text-align: right;\n",
       "    }\n",
       "</style>\n",
       "<table border=\"1\" class=\"dataframe\">\n",
       "  <thead>\n",
       "    <tr style=\"text-align: right;\">\n",
       "      <th></th>\n",
       "      <th>jobId</th>\n",
       "      <th>companyId</th>\n",
       "      <th>jobType</th>\n",
       "      <th>degree</th>\n",
       "      <th>major</th>\n",
       "      <th>industry</th>\n",
       "      <th>yearsExperience</th>\n",
       "      <th>milesFromMetropolis</th>\n",
       "      <th>salary</th>\n",
       "    </tr>\n",
       "  </thead>\n",
       "  <tbody>\n",
       "    <tr>\n",
       "      <th>0</th>\n",
       "      <td>JOB1362684983469</td>\n",
       "      <td>COMP58</td>\n",
       "      <td>Vice President</td>\n",
       "      <td>Doctoral</td>\n",
       "      <td>Biology</td>\n",
       "      <td>Health</td>\n",
       "      <td>10</td>\n",
       "      <td>39</td>\n",
       "      <td>130</td>\n",
       "    </tr>\n",
       "    <tr>\n",
       "      <th>1</th>\n",
       "      <td>JOB1362685187445</td>\n",
       "      <td>COMP42</td>\n",
       "      <td>Senior</td>\n",
       "      <td>Masters</td>\n",
       "      <td>Engineering</td>\n",
       "      <td>Oil</td>\n",
       "      <td>14</td>\n",
       "      <td>42</td>\n",
       "      <td>190</td>\n",
       "    </tr>\n",
       "    <tr>\n",
       "      <th>2</th>\n",
       "      <td>JOB1362685153465</td>\n",
       "      <td>COMP20</td>\n",
       "      <td>Vice President</td>\n",
       "      <td>Masters</td>\n",
       "      <td>Business</td>\n",
       "      <td>Auto</td>\n",
       "      <td>20</td>\n",
       "      <td>65</td>\n",
       "      <td>105</td>\n",
       "    </tr>\n",
       "    <tr>\n",
       "      <th>3</th>\n",
       "      <td>JOB1362685362031</td>\n",
       "      <td>COMP27</td>\n",
       "      <td>Senior</td>\n",
       "      <td>Bachelors</td>\n",
       "      <td>Engineering</td>\n",
       "      <td>Web</td>\n",
       "      <td>22</td>\n",
       "      <td>73</td>\n",
       "      <td>112</td>\n",
       "    </tr>\n",
       "    <tr>\n",
       "      <th>4</th>\n",
       "      <td>JOB1362684557560</td>\n",
       "      <td>COMP62</td>\n",
       "      <td>Vice President</td>\n",
       "      <td>High School</td>\n",
       "      <td>None</td>\n",
       "      <td>Finance</td>\n",
       "      <td>21</td>\n",
       "      <td>74</td>\n",
       "      <td>112</td>\n",
       "    </tr>\n",
       "  </tbody>\n",
       "</table>\n",
       "</div>"
      ],
      "text/plain": [
       "              jobId companyId         jobType       degree        major  \\\n",
       "0  JOB1362684983469    COMP58  Vice President     Doctoral      Biology   \n",
       "1  JOB1362685187445    COMP42          Senior      Masters  Engineering   \n",
       "2  JOB1362685153465    COMP20  Vice President      Masters     Business   \n",
       "3  JOB1362685362031    COMP27          Senior    Bachelors  Engineering   \n",
       "4  JOB1362684557560    COMP62  Vice President  High School         None   \n",
       "\n",
       "  industry  yearsExperience  milesFromMetropolis  salary  \n",
       "0   Health               10                   39     130  \n",
       "1      Oil               14                   42     190  \n",
       "2     Auto               20                   65     105  \n",
       "3      Web               22                   73     112  \n",
       "4  Finance               21                   74     112  "
      ]
     },
     "execution_count": 59,
     "metadata": {},
     "output_type": "execute_result"
    }
   ],
   "source": [
    "#Define copy of train_data for modelling\n",
    "train_df = train_data.copy()\n",
    "\n",
    "#Shuffle to improve cross-validation accuracy and and reindexed\n",
    "train_df = shuffle(train_df).reset_index(drop=True)\n",
    "print(train_df.shape)\n",
    "train_df.head()"
   ]
  },
  {
   "cell_type": "code",
   "execution_count": 60,
   "metadata": {},
   "outputs": [],
   "source": [
    "#Define features set and target set for modelling\n",
    "feature_df = train_df.drop([unique_id, target_col],axis=1)\n",
    "target_df = train_df[target_col]"
   ]
  },
  {
   "cell_type": "code",
   "execution_count": 61,
   "metadata": {},
   "outputs": [],
   "source": [
    "#Delete train_df to save space\n",
    "del train_df"
   ]
  },
  {
   "cell_type": "markdown",
   "metadata": {},
   "source": [
    "##### One hot encoding categorical features"
   ]
  },
  {
   "cell_type": "code",
   "execution_count": 62,
   "metadata": {
    "scrolled": true
   },
   "outputs": [
    {
     "data": {
      "text/plain": [
       "Index(['companyId', 'jobType', 'degree', 'major', 'industry',\n",
       "       'yearsExperience', 'milesFromMetropolis'],\n",
       "      dtype='object')"
      ]
     },
     "execution_count": 62,
     "metadata": {},
     "output_type": "execute_result"
    }
   ],
   "source": [
    "#View the categorical features\n",
    "feature_df.columns"
   ]
  },
  {
   "cell_type": "code",
   "execution_count": 63,
   "metadata": {},
   "outputs": [],
   "source": [
    "#One Hot Encoding \n",
    "feature_df = one_hot_encoding(feature_categorical_cols, feature_df)"
   ]
  },
  {
   "cell_type": "code",
   "execution_count": 64,
   "metadata": {},
   "outputs": [
    {
     "data": {
      "text/html": [
       "<div>\n",
       "<style scoped>\n",
       "    .dataframe tbody tr th:only-of-type {\n",
       "        vertical-align: middle;\n",
       "    }\n",
       "\n",
       "    .dataframe tbody tr th {\n",
       "        vertical-align: top;\n",
       "    }\n",
       "\n",
       "    .dataframe thead th {\n",
       "        text-align: right;\n",
       "    }\n",
       "</style>\n",
       "<table border=\"1\" class=\"dataframe\">\n",
       "  <thead>\n",
       "    <tr style=\"text-align: right;\">\n",
       "      <th></th>\n",
       "      <th>yearsExperience</th>\n",
       "      <th>milesFromMetropolis</th>\n",
       "      <th>companyId_COMP0</th>\n",
       "      <th>companyId_COMP1</th>\n",
       "      <th>companyId_COMP10</th>\n",
       "      <th>companyId_COMP11</th>\n",
       "      <th>companyId_COMP12</th>\n",
       "      <th>companyId_COMP13</th>\n",
       "      <th>companyId_COMP14</th>\n",
       "      <th>companyId_COMP15</th>\n",
       "      <th>...</th>\n",
       "      <th>major_Math</th>\n",
       "      <th>major_None</th>\n",
       "      <th>major_Physics</th>\n",
       "      <th>industry_Auto</th>\n",
       "      <th>industry_Education</th>\n",
       "      <th>industry_Finance</th>\n",
       "      <th>industry_Health</th>\n",
       "      <th>industry_Oil</th>\n",
       "      <th>industry_Service</th>\n",
       "      <th>industry_Web</th>\n",
       "    </tr>\n",
       "  </thead>\n",
       "  <tbody>\n",
       "    <tr>\n",
       "      <th>0</th>\n",
       "      <td>10</td>\n",
       "      <td>39</td>\n",
       "      <td>0</td>\n",
       "      <td>0</td>\n",
       "      <td>0</td>\n",
       "      <td>0</td>\n",
       "      <td>0</td>\n",
       "      <td>0</td>\n",
       "      <td>0</td>\n",
       "      <td>0</td>\n",
       "      <td>...</td>\n",
       "      <td>0</td>\n",
       "      <td>0</td>\n",
       "      <td>0</td>\n",
       "      <td>0</td>\n",
       "      <td>0</td>\n",
       "      <td>0</td>\n",
       "      <td>1</td>\n",
       "      <td>0</td>\n",
       "      <td>0</td>\n",
       "      <td>0</td>\n",
       "    </tr>\n",
       "    <tr>\n",
       "      <th>1</th>\n",
       "      <td>14</td>\n",
       "      <td>42</td>\n",
       "      <td>0</td>\n",
       "      <td>0</td>\n",
       "      <td>0</td>\n",
       "      <td>0</td>\n",
       "      <td>0</td>\n",
       "      <td>0</td>\n",
       "      <td>0</td>\n",
       "      <td>0</td>\n",
       "      <td>...</td>\n",
       "      <td>0</td>\n",
       "      <td>0</td>\n",
       "      <td>0</td>\n",
       "      <td>0</td>\n",
       "      <td>0</td>\n",
       "      <td>0</td>\n",
       "      <td>0</td>\n",
       "      <td>1</td>\n",
       "      <td>0</td>\n",
       "      <td>0</td>\n",
       "    </tr>\n",
       "    <tr>\n",
       "      <th>2</th>\n",
       "      <td>20</td>\n",
       "      <td>65</td>\n",
       "      <td>0</td>\n",
       "      <td>0</td>\n",
       "      <td>0</td>\n",
       "      <td>0</td>\n",
       "      <td>0</td>\n",
       "      <td>0</td>\n",
       "      <td>0</td>\n",
       "      <td>0</td>\n",
       "      <td>...</td>\n",
       "      <td>0</td>\n",
       "      <td>0</td>\n",
       "      <td>0</td>\n",
       "      <td>1</td>\n",
       "      <td>0</td>\n",
       "      <td>0</td>\n",
       "      <td>0</td>\n",
       "      <td>0</td>\n",
       "      <td>0</td>\n",
       "      <td>0</td>\n",
       "    </tr>\n",
       "    <tr>\n",
       "      <th>3</th>\n",
       "      <td>22</td>\n",
       "      <td>73</td>\n",
       "      <td>0</td>\n",
       "      <td>0</td>\n",
       "      <td>0</td>\n",
       "      <td>0</td>\n",
       "      <td>0</td>\n",
       "      <td>0</td>\n",
       "      <td>0</td>\n",
       "      <td>0</td>\n",
       "      <td>...</td>\n",
       "      <td>0</td>\n",
       "      <td>0</td>\n",
       "      <td>0</td>\n",
       "      <td>0</td>\n",
       "      <td>0</td>\n",
       "      <td>0</td>\n",
       "      <td>0</td>\n",
       "      <td>0</td>\n",
       "      <td>0</td>\n",
       "      <td>1</td>\n",
       "    </tr>\n",
       "    <tr>\n",
       "      <th>4</th>\n",
       "      <td>21</td>\n",
       "      <td>74</td>\n",
       "      <td>0</td>\n",
       "      <td>0</td>\n",
       "      <td>0</td>\n",
       "      <td>0</td>\n",
       "      <td>0</td>\n",
       "      <td>0</td>\n",
       "      <td>0</td>\n",
       "      <td>0</td>\n",
       "      <td>...</td>\n",
       "      <td>0</td>\n",
       "      <td>1</td>\n",
       "      <td>0</td>\n",
       "      <td>0</td>\n",
       "      <td>0</td>\n",
       "      <td>1</td>\n",
       "      <td>0</td>\n",
       "      <td>0</td>\n",
       "      <td>0</td>\n",
       "      <td>0</td>\n",
       "    </tr>\n",
       "  </tbody>\n",
       "</table>\n",
       "<p>5 rows × 94 columns</p>\n",
       "</div>"
      ],
      "text/plain": [
       "   yearsExperience  milesFromMetropolis  companyId_COMP0  companyId_COMP1  \\\n",
       "0               10                   39                0                0   \n",
       "1               14                   42                0                0   \n",
       "2               20                   65                0                0   \n",
       "3               22                   73                0                0   \n",
       "4               21                   74                0                0   \n",
       "\n",
       "   companyId_COMP10  companyId_COMP11  companyId_COMP12  companyId_COMP13  \\\n",
       "0                 0                 0                 0                 0   \n",
       "1                 0                 0                 0                 0   \n",
       "2                 0                 0                 0                 0   \n",
       "3                 0                 0                 0                 0   \n",
       "4                 0                 0                 0                 0   \n",
       "\n",
       "   companyId_COMP14  companyId_COMP15  ...  major_Math  major_None  \\\n",
       "0                 0                 0  ...           0           0   \n",
       "1                 0                 0  ...           0           0   \n",
       "2                 0                 0  ...           0           0   \n",
       "3                 0                 0  ...           0           0   \n",
       "4                 0                 0  ...           0           1   \n",
       "\n",
       "   major_Physics  industry_Auto  industry_Education  industry_Finance  \\\n",
       "0              0              0                   0                 0   \n",
       "1              0              0                   0                 0   \n",
       "2              0              1                   0                 0   \n",
       "3              0              0                   0                 0   \n",
       "4              0              0                   0                 1   \n",
       "\n",
       "   industry_Health  industry_Oil  industry_Service  industry_Web  \n",
       "0                1             0                 0             0  \n",
       "1                0             1                 0             0  \n",
       "2                0             0                 0             0  \n",
       "3                0             0                 0             1  \n",
       "4                0             0                 0             0  \n",
       "\n",
       "[5 rows x 94 columns]"
      ]
     },
     "execution_count": 64,
     "metadata": {},
     "output_type": "execute_result"
    }
   ],
   "source": [
    "#View top five rows of updated features\n",
    "feature_df.head()"
   ]
  },
  {
   "cell_type": "markdown",
   "metadata": {},
   "source": [
    "##### Normalising numeric features"
   ]
  },
  {
   "cell_type": "code",
   "execution_count": 65,
   "metadata": {
    "scrolled": false
   },
   "outputs": [
    {
     "data": {
      "text/plain": [
       "['yearsExperience', 'milesFromMetropolis']"
      ]
     },
     "execution_count": 65,
     "metadata": {},
     "output_type": "execute_result"
    }
   ],
   "source": [
    "#View the numeric feautures\n",
    "feature_numeric_cols"
   ]
  },
  {
   "cell_type": "code",
   "execution_count": 66,
   "metadata": {},
   "outputs": [],
   "source": [
    "#Normalise numeric features to reduce bais based on measurement and range\n",
    "numeric_df = feature_df[feature_numeric_cols]\n",
    "numeric_df = MinMaxScaler().fit_transform(numeric_df)\n",
    "feature_df[feature_numeric_cols] = numeric_df"
   ]
  },
  {
   "cell_type": "code",
   "execution_count": 67,
   "metadata": {
    "scrolled": true
   },
   "outputs": [
    {
     "data": {
      "text/html": [
       "<div>\n",
       "<style scoped>\n",
       "    .dataframe tbody tr th:only-of-type {\n",
       "        vertical-align: middle;\n",
       "    }\n",
       "\n",
       "    .dataframe tbody tr th {\n",
       "        vertical-align: top;\n",
       "    }\n",
       "\n",
       "    .dataframe thead th {\n",
       "        text-align: right;\n",
       "    }\n",
       "</style>\n",
       "<table border=\"1\" class=\"dataframe\">\n",
       "  <thead>\n",
       "    <tr style=\"text-align: right;\">\n",
       "      <th></th>\n",
       "      <th>yearsExperience</th>\n",
       "      <th>milesFromMetropolis</th>\n",
       "      <th>companyId_COMP0</th>\n",
       "      <th>companyId_COMP1</th>\n",
       "      <th>companyId_COMP10</th>\n",
       "      <th>companyId_COMP11</th>\n",
       "      <th>companyId_COMP12</th>\n",
       "      <th>companyId_COMP13</th>\n",
       "      <th>companyId_COMP14</th>\n",
       "      <th>companyId_COMP15</th>\n",
       "      <th>...</th>\n",
       "      <th>major_Math</th>\n",
       "      <th>major_None</th>\n",
       "      <th>major_Physics</th>\n",
       "      <th>industry_Auto</th>\n",
       "      <th>industry_Education</th>\n",
       "      <th>industry_Finance</th>\n",
       "      <th>industry_Health</th>\n",
       "      <th>industry_Oil</th>\n",
       "      <th>industry_Service</th>\n",
       "      <th>industry_Web</th>\n",
       "    </tr>\n",
       "  </thead>\n",
       "  <tbody>\n",
       "    <tr>\n",
       "      <th>0</th>\n",
       "      <td>0.416667</td>\n",
       "      <td>0.393939</td>\n",
       "      <td>0</td>\n",
       "      <td>0</td>\n",
       "      <td>0</td>\n",
       "      <td>0</td>\n",
       "      <td>0</td>\n",
       "      <td>0</td>\n",
       "      <td>0</td>\n",
       "      <td>0</td>\n",
       "      <td>...</td>\n",
       "      <td>0</td>\n",
       "      <td>0</td>\n",
       "      <td>0</td>\n",
       "      <td>0</td>\n",
       "      <td>0</td>\n",
       "      <td>0</td>\n",
       "      <td>1</td>\n",
       "      <td>0</td>\n",
       "      <td>0</td>\n",
       "      <td>0</td>\n",
       "    </tr>\n",
       "    <tr>\n",
       "      <th>1</th>\n",
       "      <td>0.583333</td>\n",
       "      <td>0.424242</td>\n",
       "      <td>0</td>\n",
       "      <td>0</td>\n",
       "      <td>0</td>\n",
       "      <td>0</td>\n",
       "      <td>0</td>\n",
       "      <td>0</td>\n",
       "      <td>0</td>\n",
       "      <td>0</td>\n",
       "      <td>...</td>\n",
       "      <td>0</td>\n",
       "      <td>0</td>\n",
       "      <td>0</td>\n",
       "      <td>0</td>\n",
       "      <td>0</td>\n",
       "      <td>0</td>\n",
       "      <td>0</td>\n",
       "      <td>1</td>\n",
       "      <td>0</td>\n",
       "      <td>0</td>\n",
       "    </tr>\n",
       "    <tr>\n",
       "      <th>2</th>\n",
       "      <td>0.833333</td>\n",
       "      <td>0.656566</td>\n",
       "      <td>0</td>\n",
       "      <td>0</td>\n",
       "      <td>0</td>\n",
       "      <td>0</td>\n",
       "      <td>0</td>\n",
       "      <td>0</td>\n",
       "      <td>0</td>\n",
       "      <td>0</td>\n",
       "      <td>...</td>\n",
       "      <td>0</td>\n",
       "      <td>0</td>\n",
       "      <td>0</td>\n",
       "      <td>1</td>\n",
       "      <td>0</td>\n",
       "      <td>0</td>\n",
       "      <td>0</td>\n",
       "      <td>0</td>\n",
       "      <td>0</td>\n",
       "      <td>0</td>\n",
       "    </tr>\n",
       "    <tr>\n",
       "      <th>3</th>\n",
       "      <td>0.916667</td>\n",
       "      <td>0.737374</td>\n",
       "      <td>0</td>\n",
       "      <td>0</td>\n",
       "      <td>0</td>\n",
       "      <td>0</td>\n",
       "      <td>0</td>\n",
       "      <td>0</td>\n",
       "      <td>0</td>\n",
       "      <td>0</td>\n",
       "      <td>...</td>\n",
       "      <td>0</td>\n",
       "      <td>0</td>\n",
       "      <td>0</td>\n",
       "      <td>0</td>\n",
       "      <td>0</td>\n",
       "      <td>0</td>\n",
       "      <td>0</td>\n",
       "      <td>0</td>\n",
       "      <td>0</td>\n",
       "      <td>1</td>\n",
       "    </tr>\n",
       "    <tr>\n",
       "      <th>4</th>\n",
       "      <td>0.875000</td>\n",
       "      <td>0.747475</td>\n",
       "      <td>0</td>\n",
       "      <td>0</td>\n",
       "      <td>0</td>\n",
       "      <td>0</td>\n",
       "      <td>0</td>\n",
       "      <td>0</td>\n",
       "      <td>0</td>\n",
       "      <td>0</td>\n",
       "      <td>...</td>\n",
       "      <td>0</td>\n",
       "      <td>1</td>\n",
       "      <td>0</td>\n",
       "      <td>0</td>\n",
       "      <td>0</td>\n",
       "      <td>1</td>\n",
       "      <td>0</td>\n",
       "      <td>0</td>\n",
       "      <td>0</td>\n",
       "      <td>0</td>\n",
       "    </tr>\n",
       "  </tbody>\n",
       "</table>\n",
       "<p>5 rows × 94 columns</p>\n",
       "</div>"
      ],
      "text/plain": [
       "   yearsExperience  milesFromMetropolis  companyId_COMP0  companyId_COMP1  \\\n",
       "0         0.416667             0.393939                0                0   \n",
       "1         0.583333             0.424242                0                0   \n",
       "2         0.833333             0.656566                0                0   \n",
       "3         0.916667             0.737374                0                0   \n",
       "4         0.875000             0.747475                0                0   \n",
       "\n",
       "   companyId_COMP10  companyId_COMP11  companyId_COMP12  companyId_COMP13  \\\n",
       "0                 0                 0                 0                 0   \n",
       "1                 0                 0                 0                 0   \n",
       "2                 0                 0                 0                 0   \n",
       "3                 0                 0                 0                 0   \n",
       "4                 0                 0                 0                 0   \n",
       "\n",
       "   companyId_COMP14  companyId_COMP15  ...  major_Math  major_None  \\\n",
       "0                 0                 0  ...           0           0   \n",
       "1                 0                 0  ...           0           0   \n",
       "2                 0                 0  ...           0           0   \n",
       "3                 0                 0  ...           0           0   \n",
       "4                 0                 0  ...           0           1   \n",
       "\n",
       "   major_Physics  industry_Auto  industry_Education  industry_Finance  \\\n",
       "0              0              0                   0                 0   \n",
       "1              0              0                   0                 0   \n",
       "2              0              1                   0                 0   \n",
       "3              0              0                   0                 0   \n",
       "4              0              0                   0                 1   \n",
       "\n",
       "   industry_Health  industry_Oil  industry_Service  industry_Web  \n",
       "0                1             0                 0             0  \n",
       "1                0             1                 0             0  \n",
       "2                0             0                 0             0  \n",
       "3                0             0                 0             1  \n",
       "4                0             0                 0             0  \n",
       "\n",
       "[5 rows x 94 columns]"
      ]
     },
     "execution_count": 67,
     "metadata": {},
     "output_type": "execute_result"
    }
   ],
   "source": [
    "#View top five rows of updated features\n",
    "feature_df.head()"
   ]
  },
  {
   "cell_type": "markdown",
   "metadata": {},
   "source": [
    "##### Creating and testing the models"
   ]
  },
  {
   "cell_type": "code",
   "execution_count": 68,
   "metadata": {},
   "outputs": [],
   "source": [
    "#Train and evaluate models using cross_val_score, scored by MSE\n",
    "def train_eval_model(model, feature_df, target_df, mse_mean, mse_std):\n",
    "    neg_mse = cross_val_score(model, feature_df, target_df, cv=5, scoring='neg_mean_squared_error')\n",
    "    mse_mean[model] = -1*neg_mse.mean()\n",
    "    mse_std[model] = neg_mse.std()\n",
    "    print(model, \"mse_mean: \", mse_mean[model], \"mse_std: \", mse_std[model])"
   ]
  },
  {
   "cell_type": "code",
   "execution_count": 69,
   "metadata": {},
   "outputs": [],
   "source": [
    "#Vanilla Models\n",
    "    # Parameters set at default if not specified\n",
    "    # random_state=0 set as default across all models (exc. linear regression)\n",
    "\n",
    "#Vanilla Linear Regressions \n",
    "lr = LinearRegression()\n",
    "Lasso = linear_model.Lasso()\n",
    "Ridge = linear_model.Ridge()\n",
    "\n",
    "#Vanilla Regression Trees\n",
    "dtr = tree.DecisionTreeRegressor()\n",
    "gbm = ensemble.GradientBoostingRegressor()\n",
    "rfr = ensemble.RandomForestRegressor(n_estimators=10)"
   ]
  },
  {
   "cell_type": "code",
   "execution_count": 70,
   "metadata": {
    "scrolled": true
   },
   "outputs": [],
   "source": [
    "#Store model and the mean and standard deviation of MSE results\n",
    "models = [lr, Lasso, Ridge, dtr, gbm, rfr]\n",
    "mse_mean = {}\n",
    "mse_std = {}"
   ]
  },
  {
   "cell_type": "code",
   "execution_count": 71,
   "metadata": {},
   "outputs": [
    {
     "name": "stdout",
     "output_type": "stream",
     "text": [
      "LinearRegression() mse_mean:  384.44416629825747 mse_std:  0.9909866675999405\n",
      "Lasso() mse_mean:  519.3214185212738 mse_std:  0.7686123679992652\n",
      "Ridge() mse_mean:  384.44114913449306 mse_std:  0.9920306006892875\n",
      "DecisionTreeRegressor() mse_mean:  699.51843843247 mse_std:  2.4091894614714824\n",
      "GradientBoostingRegressor() mse_mean:  375.8276872326185 mse_std:  0.6195787783929497\n",
      "RandomForestRegressor(n_estimators=10) mse_mean:  429.096154474042 mse_std:  1.3605715448259703\n"
     ]
    }
   ],
   "source": [
    "#parallel cross-validate models, using MSE as evaluation metric\n",
    "for model in models:\n",
    "    train_eval_model(model, feature_df, target_df, mse_mean, mse_std)"
   ]
  },
  {
   "cell_type": "code",
   "execution_count": 72,
   "metadata": {},
   "outputs": [],
   "source": [
    "#Vanilla model MSEs - mean and standard deviation\n",
    "mse_stats_vanilla = pd.DataFrame([mse_mean, mse_std]).T\n",
    "mse_stats_vanilla.columns = ['mse_mean','mse_std']\n",
    "mse_stats_vanilla.index = ['Linear Regression',\n",
    "                           'Lasso Regression', \n",
    "                           'Ridge Regression',\n",
    "                           'Decision Tree Regressor',\n",
    "                           'Gradient Boosting Regressor', \n",
    "                           'Random Forest Regressor']"
   ]
  },
  {
   "cell_type": "code",
   "execution_count": 73,
   "metadata": {
    "scrolled": false
   },
   "outputs": [
    {
     "data": {
      "image/png": "[encoded data removed]",
      "text/plain": [
       "<Figure size 720x360 with 1 Axes>"
      ]
     },
     "metadata": {
      "needs_background": "light"
     },
     "output_type": "display_data"
    }
   ],
   "source": [
    "#Plot vanilla models' MSEs\n",
    "plt.figure(figsize=(10, 5))\n",
    "\n",
    "#bar charts\n",
    "mse_stats_sorted= mse_stats_vanilla.sort_values('mse_mean',ascending=True)\n",
    "mse_stats_sorted['mse_mean'].plot(kind = 'bar')\n",
    "plt.xticks(rotation=30)\n",
    "plt.savefig('vanilla_models_mse.png', bbox_inches = 'tight')\n",
    "plt.show()"
   ]
  },
  {
   "cell_type": "markdown",
   "metadata": {},
   "source": [
    "The two selected vanilla models with the lowest MSEs to tune further are the Gradient Boosting Regressor and Ridge regression."
   ]
  },
  {
   "cell_type": "markdown",
   "metadata": {},
   "source": [
    "#### Grid Search\n",
    "Hyperparameters are tested in aim of lowering the MSE to below 360 for both the Ridge regression and the Gradient Boosting Regressor. "
   ]
  },
  {
   "cell_type": "code",
   "execution_count": 74,
   "metadata": {},
   "outputs": [],
   "source": [
    "#Grid Search hyperparameters\n",
    "\n",
    "#Ridge\n",
    "alpha = [0.01, 0.1, 1, 10]\n",
    "#Note that alpha = 1 is the same as linear regression. \n",
    "\n",
    "#Gradient Boosting Regressor\n",
    "n_estimators = [50, 100, 150, 200]\n",
    "max_depth = [3,7,9]"
   ]
  },
  {
   "cell_type": "code",
   "execution_count": 75,
   "metadata": {
    "scrolled": false
   },
   "outputs": [
    {
     "name": "stdout",
     "output_type": "stream",
     "text": [
      "Ridge(alpha=0.01, random_state=0) mse_mean:  384.4411542147446 mse_std:  0.9920347709987977\n",
      "Ridge(alpha=0.1, random_state=0) mse_mean:  384.44115374267034 mse_std:  0.9920343918244066\n",
      "Ridge(alpha=1, random_state=0) mse_mean:  384.44114913449306 mse_std:  0.9920306006892875\n",
      "Ridge(alpha=10, random_state=0) mse_mean:  384.4411143063653 mse_std:  0.9919927502133834\n"
     ]
    },
    {
     "data": {
      "text/html": [
       "<div>\n",
       "<style scoped>\n",
       "    .dataframe tbody tr th:only-of-type {\n",
       "        vertical-align: middle;\n",
       "    }\n",
       "\n",
       "    .dataframe tbody tr th {\n",
       "        vertical-align: top;\n",
       "    }\n",
       "\n",
       "    .dataframe thead th {\n",
       "        text-align: right;\n",
       "    }\n",
       "</style>\n",
       "<table border=\"1\" class=\"dataframe\">\n",
       "  <thead>\n",
       "    <tr style=\"text-align: right;\">\n",
       "      <th></th>\n",
       "      <th>mse_mean</th>\n",
       "      <th>mse_std</th>\n",
       "    </tr>\n",
       "  </thead>\n",
       "  <tbody>\n",
       "    <tr>\n",
       "      <th>Ridge(alpha=0.01, random_state=0)</th>\n",
       "      <td>384.441154</td>\n",
       "      <td>0.992035</td>\n",
       "    </tr>\n",
       "    <tr>\n",
       "      <th>Ridge(alpha=0.1, random_state=0)</th>\n",
       "      <td>384.441154</td>\n",
       "      <td>0.992034</td>\n",
       "    </tr>\n",
       "    <tr>\n",
       "      <th>Ridge(alpha=1, random_state=0)</th>\n",
       "      <td>384.441149</td>\n",
       "      <td>0.992031</td>\n",
       "    </tr>\n",
       "    <tr>\n",
       "      <th>Ridge(alpha=10, random_state=0)</th>\n",
       "      <td>384.441114</td>\n",
       "      <td>0.991993</td>\n",
       "    </tr>\n",
       "  </tbody>\n",
       "</table>\n",
       "</div>"
      ],
      "text/plain": [
       "                                     mse_mean   mse_std\n",
       "Ridge(alpha=0.01, random_state=0)  384.441154  0.992035\n",
       "Ridge(alpha=0.1, random_state=0)   384.441154  0.992034\n",
       "Ridge(alpha=1, random_state=0)     384.441149  0.992031\n",
       "Ridge(alpha=10, random_state=0)    384.441114  0.991993"
      ]
     },
     "metadata": {},
     "output_type": "display_data"
    },
    {
     "name": "stdout",
     "output_type": "stream",
     "text": [
      "Ridge Regression with the Lowest MSE\n"
     ]
    },
    {
     "data": {
      "text/html": [
       "<div>\n",
       "<style scoped>\n",
       "    .dataframe tbody tr th:only-of-type {\n",
       "        vertical-align: middle;\n",
       "    }\n",
       "\n",
       "    .dataframe tbody tr th {\n",
       "        vertical-align: top;\n",
       "    }\n",
       "\n",
       "    .dataframe thead th {\n",
       "        text-align: right;\n",
       "    }\n",
       "</style>\n",
       "<table border=\"1\" class=\"dataframe\">\n",
       "  <thead>\n",
       "    <tr style=\"text-align: right;\">\n",
       "      <th></th>\n",
       "      <th>mse_mean</th>\n",
       "      <th>mse_std</th>\n",
       "    </tr>\n",
       "  </thead>\n",
       "  <tbody>\n",
       "    <tr>\n",
       "      <th>Ridge(alpha=10, random_state=0)</th>\n",
       "      <td>384.441114</td>\n",
       "      <td>0.991993</td>\n",
       "    </tr>\n",
       "  </tbody>\n",
       "</table>\n",
       "</div>"
      ],
      "text/plain": [
       "                                   mse_mean   mse_std\n",
       "Ridge(alpha=10, random_state=0)  384.441114  0.991993"
      ]
     },
     "metadata": {},
     "output_type": "display_data"
    }
   ],
   "source": [
    "#Ridge regression\n",
    "\n",
    "#Restore for Ridge Regression results\n",
    "mse_mean = {}\n",
    "mse_std = {}\n",
    "\n",
    "#Alphas\n",
    "for i in alpha:\n",
    "    Ridge = linear_model.Ridge(alpha=i, random_state=0)\n",
    "    train_eval_model(Ridge, feature_df, target_df, mse_mean, mse_std)\n",
    "\n",
    "#DataFrame results \n",
    "mse_stats_Ridge = pd.DataFrame([mse_mean, mse_std]).T\n",
    "mse_stats_Ridge.columns = ['mse_mean','mse_std']\n",
    "display(mse_stats_Ridge)\n",
    "\n",
    "#Lowest MSE\n",
    "lowest_mse_Ridge = mse_stats_Ridge[mse_stats_Ridge['mse_mean']==min(mse_stats_Ridge['mse_mean'])]\n",
    "print('Ridge Regression with the Lowest MSE')\n",
    "display(lowest_mse_Ridge)"
   ]
  },
  {
   "cell_type": "code",
   "execution_count": 76,
   "metadata": {
    "scrolled": true
   },
   "outputs": [
    {
     "name": "stdout",
     "output_type": "stream",
     "text": [
      "GradientBoostingRegressor(n_estimators=50, random_state=0) mse_mean:  441.93414100385144 mse_std:  0.9509930096648851\n",
      "GradientBoostingRegressor(random_state=0) mse_mean:  375.82768723261756 mse_std:  0.6195787783941648\n",
      "GradientBoostingRegressor(n_estimators=150, random_state=0) mse_mean:  363.31772546103963 mse_std:  0.4644722773881581\n",
      "GradientBoostingRegressor(n_estimators=200, random_state=0) mse_mean:  359.20069233583024 mse_std:  0.5589876461356557\n",
      "GradientBoostingRegressor(max_depth=7, n_estimators=50, random_state=0) mse_mean:  365.3684175806719 mse_std:  0.6274839935258549\n",
      "GradientBoostingRegressor(max_depth=7, random_state=0) mse_mean:  357.1376428385971 mse_std:  0.6865509098127003\n",
      "GradientBoostingRegressor(max_depth=7, n_estimators=150, random_state=0) mse_mean:  356.8154178445925 mse_std:  0.7205314408921115\n",
      "GradientBoostingRegressor(max_depth=7, n_estimators=200, random_state=0) mse_mean:  356.9529507706919 mse_std:  0.7337833793820161\n",
      "GradientBoostingRegressor(max_depth=9, n_estimators=50, random_state=0) mse_mean:  360.7756659435525 mse_std:  0.9647087125467061\n",
      "GradientBoostingRegressor(max_depth=9, random_state=0) mse_mean:  358.00105373950885 mse_std:  0.8673929476895612\n",
      "GradientBoostingRegressor(max_depth=9, n_estimators=150, random_state=0) mse_mean:  358.5804943320974 mse_std:  0.9378309051808639\n",
      "GradientBoostingRegressor(max_depth=9, n_estimators=200, random_state=0) mse_mean:  359.31261002508666 mse_std:  0.916858596587193\n"
     ]
    },
    {
     "data": {
      "text/html": [
       "<div>\n",
       "<style scoped>\n",
       "    .dataframe tbody tr th:only-of-type {\n",
       "        vertical-align: middle;\n",
       "    }\n",
       "\n",
       "    .dataframe tbody tr th {\n",
       "        vertical-align: top;\n",
       "    }\n",
       "\n",
       "    .dataframe thead th {\n",
       "        text-align: right;\n",
       "    }\n",
       "</style>\n",
       "<table border=\"1\" class=\"dataframe\">\n",
       "  <thead>\n",
       "    <tr style=\"text-align: right;\">\n",
       "      <th></th>\n",
       "      <th>mse_mean</th>\n",
       "      <th>mse_std</th>\n",
       "    </tr>\n",
       "  </thead>\n",
       "  <tbody>\n",
       "    <tr>\n",
       "      <th>GradientBoostingRegressor(n_estimators=50, random_state=0)</th>\n",
       "      <td>441.934141</td>\n",
       "      <td>0.950993</td>\n",
       "    </tr>\n",
       "    <tr>\n",
       "      <th>GradientBoostingRegressor(random_state=0)</th>\n",
       "      <td>375.827687</td>\n",
       "      <td>0.619579</td>\n",
       "    </tr>\n",
       "    <tr>\n",
       "      <th>GradientBoostingRegressor(n_estimators=150, random_state=0)</th>\n",
       "      <td>363.317725</td>\n",
       "      <td>0.464472</td>\n",
       "    </tr>\n",
       "    <tr>\n",
       "      <th>GradientBoostingRegressor(n_estimators=200, random_state=0)</th>\n",
       "      <td>359.200692</td>\n",
       "      <td>0.558988</td>\n",
       "    </tr>\n",
       "    <tr>\n",
       "      <th>GradientBoostingRegressor(max_depth=7, n_estimators=50, random_state=0)</th>\n",
       "      <td>365.368418</td>\n",
       "      <td>0.627484</td>\n",
       "    </tr>\n",
       "    <tr>\n",
       "      <th>GradientBoostingRegressor(max_depth=7, random_state=0)</th>\n",
       "      <td>357.137643</td>\n",
       "      <td>0.686551</td>\n",
       "    </tr>\n",
       "    <tr>\n",
       "      <th>GradientBoostingRegressor(max_depth=7, n_estimators=150, random_state=0)</th>\n",
       "      <td>356.815418</td>\n",
       "      <td>0.720531</td>\n",
       "    </tr>\n",
       "    <tr>\n",
       "      <th>GradientBoostingRegressor(max_depth=7, n_estimators=200, random_state=0)</th>\n",
       "      <td>356.952951</td>\n",
       "      <td>0.733783</td>\n",
       "    </tr>\n",
       "    <tr>\n",
       "      <th>GradientBoostingRegressor(max_depth=9, n_estimators=50, random_state=0)</th>\n",
       "      <td>360.775666</td>\n",
       "      <td>0.964709</td>\n",
       "    </tr>\n",
       "    <tr>\n",
       "      <th>GradientBoostingRegressor(max_depth=9, random_state=0)</th>\n",
       "      <td>358.001054</td>\n",
       "      <td>0.867393</td>\n",
       "    </tr>\n",
       "    <tr>\n",
       "      <th>GradientBoostingRegressor(max_depth=9, n_estimators=150, random_state=0)</th>\n",
       "      <td>358.580494</td>\n",
       "      <td>0.937831</td>\n",
       "    </tr>\n",
       "    <tr>\n",
       "      <th>GradientBoostingRegressor(max_depth=9, n_estimators=200, random_state=0)</th>\n",
       "      <td>359.312610</td>\n",
       "      <td>0.916859</td>\n",
       "    </tr>\n",
       "  </tbody>\n",
       "</table>\n",
       "</div>"
      ],
      "text/plain": [
       "                                                      mse_mean   mse_std\n",
       "GradientBoostingRegressor(n_estimators=50, rand...  441.934141  0.950993\n",
       "GradientBoostingRegressor(random_state=0)           375.827687  0.619579\n",
       "GradientBoostingRegressor(n_estimators=150, ran...  363.317725  0.464472\n",
       "GradientBoostingRegressor(n_estimators=200, ran...  359.200692  0.558988\n",
       "GradientBoostingRegressor(max_depth=7, n_estima...  365.368418  0.627484\n",
       "GradientBoostingRegressor(max_depth=7, random_s...  357.137643  0.686551\n",
       "GradientBoostingRegressor(max_depth=7, n_estima...  356.815418  0.720531\n",
       "GradientBoostingRegressor(max_depth=7, n_estima...  356.952951  0.733783\n",
       "GradientBoostingRegressor(max_depth=9, n_estima...  360.775666  0.964709\n",
       "GradientBoostingRegressor(max_depth=9, random_s...  358.001054  0.867393\n",
       "GradientBoostingRegressor(max_depth=9, n_estima...  358.580494  0.937831\n",
       "GradientBoostingRegressor(max_depth=9, n_estima...  359.312610  0.916859"
      ]
     },
     "metadata": {},
     "output_type": "display_data"
    },
    {
     "name": "stdout",
     "output_type": "stream",
     "text": [
      "Gradient Boosting Regressor with the Lowest MSE\n"
     ]
    },
    {
     "data": {
      "text/html": [
       "<div>\n",
       "<style scoped>\n",
       "    .dataframe tbody tr th:only-of-type {\n",
       "        vertical-align: middle;\n",
       "    }\n",
       "\n",
       "    .dataframe tbody tr th {\n",
       "        vertical-align: top;\n",
       "    }\n",
       "\n",
       "    .dataframe thead th {\n",
       "        text-align: right;\n",
       "    }\n",
       "</style>\n",
       "<table border=\"1\" class=\"dataframe\">\n",
       "  <thead>\n",
       "    <tr style=\"text-align: right;\">\n",
       "      <th></th>\n",
       "      <th>mse_mean</th>\n",
       "      <th>mse_std</th>\n",
       "    </tr>\n",
       "  </thead>\n",
       "  <tbody>\n",
       "    <tr>\n",
       "      <th>GradientBoostingRegressor(max_depth=7, n_estimators=150, random_state=0)</th>\n",
       "      <td>356.815418</td>\n",
       "      <td>0.720531</td>\n",
       "    </tr>\n",
       "  </tbody>\n",
       "</table>\n",
       "</div>"
      ],
      "text/plain": [
       "                                                      mse_mean   mse_std\n",
       "GradientBoostingRegressor(max_depth=7, n_estima...  356.815418  0.720531"
      ]
     },
     "metadata": {},
     "output_type": "display_data"
    }
   ],
   "source": [
    "#Gradient Boosting Regressor \n",
    "\n",
    "#Restore for Gradient Boosting Regressor results\n",
    "mse_mean = {}\n",
    "mse_std = {}\n",
    "\n",
    "#max_depth and n_estimators\n",
    "for m in max_depth:\n",
    "    for n in n_estimators:\n",
    "            gbm = ensemble.GradientBoostingRegressor(n_estimators=n, max_depth=m, random_state=0)\n",
    "            train_eval_model(gbm, feature_df, target_df, mse_mean, mse_std)\n",
    "\n",
    "#DataFrame results \n",
    "mse_stats_gbr = pd.DataFrame([mse_mean, mse_std]).T\n",
    "mse_stats_gbr.columns = ['mse_mean','mse_std']\n",
    "display(mse_stats_gbr)\n",
    "\n",
    "#Lowest MSE\n",
    "lowest_mse_gbr = mse_stats_gbr[mse_stats_gbr['mse_mean']==min(mse_stats_gbr['mse_mean'])]\n",
    "print('Gradient Boosting Regressor with the Lowest MSE')\n",
    "display(lowest_mse_gbr)"
   ]
  },
  {
   "cell_type": "code",
   "execution_count": 77,
   "metadata": {
    "scrolled": false
   },
   "outputs": [],
   "source": [
    "def markdown_table(df):\n",
    "    print(df.to_markdown())"
   ]
  },
  {
   "cell_type": "markdown",
   "metadata": {},
   "source": [
    "Findings\n",
    "\n",
    "Ridge regressions: \n",
    "- Various alphas made insignificant differences to the Ridge regressions. \n",
    "- Ridge regression (alpha = 10, random_state = 0) has the smallest MSE.\n",
    "\n",
    "Gradient Boosting Regressors:\n",
    "- Gradient Boosting Regressors performed better overall in terms of lower MSEs.\n",
    "- Gradient Boosting Regressor (max_depth=7, n_estimators=150, random_state=0) has the smallest MSE."
   ]
  },
  {
   "cell_type": "code",
   "execution_count": 78,
   "metadata": {},
   "outputs": [
    {
     "data": {
      "text/html": [
       "<div>\n",
       "<style scoped>\n",
       "    .dataframe tbody tr th:only-of-type {\n",
       "        vertical-align: middle;\n",
       "    }\n",
       "\n",
       "    .dataframe tbody tr th {\n",
       "        vertical-align: top;\n",
       "    }\n",
       "\n",
       "    .dataframe thead th {\n",
       "        text-align: right;\n",
       "    }\n",
       "</style>\n",
       "<table border=\"1\" class=\"dataframe\">\n",
       "  <thead>\n",
       "    <tr style=\"text-align: right;\">\n",
       "      <th></th>\n",
       "      <th>mse_mean</th>\n",
       "      <th>mse_std</th>\n",
       "    </tr>\n",
       "  </thead>\n",
       "  <tbody>\n",
       "    <tr>\n",
       "      <th>Ridge(alpha=10, random_state=0)</th>\n",
       "      <td>384.441114</td>\n",
       "      <td>0.991993</td>\n",
       "    </tr>\n",
       "    <tr>\n",
       "      <th>GradientBoostingRegressor(max_depth=7, n_estimators=150, random_state=0)</th>\n",
       "      <td>356.815418</td>\n",
       "      <td>0.720531</td>\n",
       "    </tr>\n",
       "  </tbody>\n",
       "</table>\n",
       "</div>"
      ],
      "text/plain": [
       "                                                      mse_mean   mse_std\n",
       "Ridge(alpha=10, random_state=0)                     384.441114  0.991993\n",
       "GradientBoostingRegressor(max_depth=7, n_estima...  356.815418  0.720531"
      ]
     },
     "execution_count": 78,
     "metadata": {},
     "output_type": "execute_result"
    }
   ],
   "source": [
    "#Concat the Ridge regression and Gradient Boosting Regressor with the lowest MSE \n",
    "lowest_mse = pd.concat([lowest_mse_Ridge, lowest_mse_gbr],axis=0)\n",
    "lowest_mse"
   ]
  },
  {
   "cell_type": "code",
   "execution_count": 79,
   "metadata": {},
   "outputs": [
    {
     "data": {
      "text/plain": [
       "Index([GradientBoostingRegressor(max_depth=7, n_estimators=150, random_state=0)], dtype='object')"
      ]
     },
     "execution_count": 79,
     "metadata": {},
     "output_type": "execute_result"
    }
   ],
   "source": [
    "#Model with Lowest MSE to train and predict salaries on test set\n",
    "lowest_mse_ = lowest_mse[lowest_mse['mse_mean']==min(lowest_mse['mse_mean'])]\n",
    "lowest_mse_.index"
   ]
  },
  {
   "cell_type": "markdown",
   "metadata": {},
   "source": [
    "Gradient Boosting Regressor (max_depth=7, n_estimators=150, random_state=0) has the smallest MSE. \n",
    "It is the model to train on the entire dataset. "
   ]
  },
  {
   "cell_type": "code",
   "execution_count": 80,
   "metadata": {},
   "outputs": [
    {
     "data": {
      "text/plain": [
       "GradientBoostingRegressor(max_depth=7, n_estimators=150, random_state=0)"
      ]
     },
     "execution_count": 80,
     "metadata": {},
     "output_type": "execute_result"
    }
   ],
   "source": [
    "#Define 'model' as model with the lowest MSE\n",
    "#train model on entire dataset\n",
    "model.fit(feature_df, target_df)"
   ]
  },
  {
   "cell_type": "markdown",
   "metadata": {},
   "source": [
    "#### Feature importance"
   ]
  },
  {
   "cell_type": "code",
   "execution_count": 81,
   "metadata": {},
   "outputs": [],
   "source": [
    "#feature importances\n",
    "if hasattr(model, 'feature_importances_'):\n",
    "    importances = model.feature_importances_\n",
    "else:\n",
    "    #linear models don't have feature_importances_\n",
    "    importances = [0]*len(feature_df.columns)\n",
    "    \n",
    "feature_importances = pd.DataFrame({'feature':feature_df.columns, 'importance':importances})\n",
    "feature_importances.sort_values(by='importance', ascending=False, inplace=True)\n",
    "\n",
    "#set index to 'feature'\n",
    "feature_importances.set_index('feature', inplace=True, drop=True)"
   ]
  },
  {
   "cell_type": "code",
   "execution_count": 82,
   "metadata": {},
   "outputs": [
    {
     "data": {
      "image/png": "[encoded data removed]",
      "text/plain": [
       "<Figure size 1440x720 with 1 Axes>"
      ]
     },
     "metadata": {
      "needs_background": "light"
     },
     "output_type": "display_data"
    }
   ],
   "source": [
    "#Plot top 25 feature importances\n",
    "feature_importances[0:25].plot.bar(figsize=(20,10))\n",
    "plt.savefig('feature_importances.png',bbox_inches = 'tight')\n",
    "plt.show()"
   ]
  },
  {
   "cell_type": "code",
   "execution_count": 83,
   "metadata": {},
   "outputs": [
    {
     "data": {
      "text/html": [
       "<div>\n",
       "<style scoped>\n",
       "    .dataframe tbody tr th:only-of-type {\n",
       "        vertical-align: middle;\n",
       "    }\n",
       "\n",
       "    .dataframe tbody tr th {\n",
       "        vertical-align: top;\n",
       "    }\n",
       "\n",
       "    .dataframe thead th {\n",
       "        text-align: right;\n",
       "    }\n",
       "</style>\n",
       "<table border=\"1\" class=\"dataframe\">\n",
       "  <thead>\n",
       "    <tr style=\"text-align: right;\">\n",
       "      <th></th>\n",
       "      <th>importance</th>\n",
       "    </tr>\n",
       "    <tr>\n",
       "      <th>feature</th>\n",
       "      <th></th>\n",
       "    </tr>\n",
       "  </thead>\n",
       "  <tbody>\n",
       "    <tr>\n",
       "      <th>jobType_Janitor</th>\n",
       "      <td>0.236243</td>\n",
       "    </tr>\n",
       "    <tr>\n",
       "      <th>yearsExperience</th>\n",
       "      <td>0.186827</td>\n",
       "    </tr>\n",
       "    <tr>\n",
       "      <th>milesFromMetropolis</th>\n",
       "      <td>0.129310</td>\n",
       "    </tr>\n",
       "    <tr>\n",
       "      <th>jobType_Junior</th>\n",
       "      <td>0.082639</td>\n",
       "    </tr>\n",
       "    <tr>\n",
       "      <th>major_None</th>\n",
       "      <td>0.071062</td>\n",
       "    </tr>\n",
       "  </tbody>\n",
       "</table>\n",
       "</div>"
      ],
      "text/plain": [
       "                     importance\n",
       "feature                        \n",
       "jobType_Janitor        0.236243\n",
       "yearsExperience        0.186827\n",
       "milesFromMetropolis    0.129310\n",
       "jobType_Junior         0.082639\n",
       "major_None             0.071062"
      ]
     },
     "execution_count": 83,
     "metadata": {},
     "output_type": "execute_result"
    }
   ],
   "source": [
    "#Table of top 10 feature importances \n",
    "feature_importances[0:5]"
   ]
  },
  {
   "cell_type": "markdown",
   "metadata": {},
   "source": [
    "### Deploy solution"
   ]
  },
  {
   "cell_type": "code",
   "execution_count": 84,
   "metadata": {},
   "outputs": [],
   "source": [
    "#Create copy of test_features\n",
    "test_features1 = test_features.copy()\n",
    "#Define unique identifiers of the test set\n",
    "test_jobId = test_features1['jobId']"
   ]
  },
  {
   "cell_type": "code",
   "execution_count": 85,
   "metadata": {},
   "outputs": [
    {
     "data": {
      "text/html": [
       "<div>\n",
       "<style scoped>\n",
       "    .dataframe tbody tr th:only-of-type {\n",
       "        vertical-align: middle;\n",
       "    }\n",
       "\n",
       "    .dataframe tbody tr th {\n",
       "        vertical-align: top;\n",
       "    }\n",
       "\n",
       "    .dataframe thead th {\n",
       "        text-align: right;\n",
       "    }\n",
       "</style>\n",
       "<table border=\"1\" class=\"dataframe\">\n",
       "  <thead>\n",
       "    <tr style=\"text-align: right;\">\n",
       "      <th></th>\n",
       "      <th>companyId</th>\n",
       "      <th>jobType</th>\n",
       "      <th>degree</th>\n",
       "      <th>major</th>\n",
       "      <th>industry</th>\n",
       "      <th>yearsExperience</th>\n",
       "      <th>milesFromMetropolis</th>\n",
       "    </tr>\n",
       "  </thead>\n",
       "  <tbody>\n",
       "    <tr>\n",
       "      <th>0</th>\n",
       "      <td>COMP33</td>\n",
       "      <td>MANAGER</td>\n",
       "      <td>HIGH_SCHOOL</td>\n",
       "      <td>NONE</td>\n",
       "      <td>HEALTH</td>\n",
       "      <td>22</td>\n",
       "      <td>73</td>\n",
       "    </tr>\n",
       "    <tr>\n",
       "      <th>1</th>\n",
       "      <td>COMP13</td>\n",
       "      <td>JUNIOR</td>\n",
       "      <td>NONE</td>\n",
       "      <td>NONE</td>\n",
       "      <td>AUTO</td>\n",
       "      <td>20</td>\n",
       "      <td>47</td>\n",
       "    </tr>\n",
       "    <tr>\n",
       "      <th>2</th>\n",
       "      <td>COMP10</td>\n",
       "      <td>CTO</td>\n",
       "      <td>MASTERS</td>\n",
       "      <td>BIOLOGY</td>\n",
       "      <td>HEALTH</td>\n",
       "      <td>17</td>\n",
       "      <td>9</td>\n",
       "    </tr>\n",
       "    <tr>\n",
       "      <th>3</th>\n",
       "      <td>COMP21</td>\n",
       "      <td>MANAGER</td>\n",
       "      <td>HIGH_SCHOOL</td>\n",
       "      <td>NONE</td>\n",
       "      <td>OIL</td>\n",
       "      <td>14</td>\n",
       "      <td>96</td>\n",
       "    </tr>\n",
       "    <tr>\n",
       "      <th>4</th>\n",
       "      <td>COMP36</td>\n",
       "      <td>JUNIOR</td>\n",
       "      <td>DOCTORAL</td>\n",
       "      <td>BIOLOGY</td>\n",
       "      <td>OIL</td>\n",
       "      <td>10</td>\n",
       "      <td>44</td>\n",
       "    </tr>\n",
       "    <tr>\n",
       "      <th>...</th>\n",
       "      <td>...</td>\n",
       "      <td>...</td>\n",
       "      <td>...</td>\n",
       "      <td>...</td>\n",
       "      <td>...</td>\n",
       "      <td>...</td>\n",
       "      <td>...</td>\n",
       "    </tr>\n",
       "    <tr>\n",
       "      <th>999995</th>\n",
       "      <td>COMP54</td>\n",
       "      <td>VICE_PRESIDENT</td>\n",
       "      <td>BACHELORS</td>\n",
       "      <td>MATH</td>\n",
       "      <td>OIL</td>\n",
       "      <td>14</td>\n",
       "      <td>3</td>\n",
       "    </tr>\n",
       "    <tr>\n",
       "      <th>999996</th>\n",
       "      <td>COMP5</td>\n",
       "      <td>MANAGER</td>\n",
       "      <td>NONE</td>\n",
       "      <td>NONE</td>\n",
       "      <td>HEALTH</td>\n",
       "      <td>20</td>\n",
       "      <td>67</td>\n",
       "    </tr>\n",
       "    <tr>\n",
       "      <th>999997</th>\n",
       "      <td>COMP61</td>\n",
       "      <td>JANITOR</td>\n",
       "      <td>NONE</td>\n",
       "      <td>NONE</td>\n",
       "      <td>OIL</td>\n",
       "      <td>1</td>\n",
       "      <td>91</td>\n",
       "    </tr>\n",
       "    <tr>\n",
       "      <th>999998</th>\n",
       "      <td>COMP19</td>\n",
       "      <td>CTO</td>\n",
       "      <td>DOCTORAL</td>\n",
       "      <td>MATH</td>\n",
       "      <td>OIL</td>\n",
       "      <td>14</td>\n",
       "      <td>63</td>\n",
       "    </tr>\n",
       "    <tr>\n",
       "      <th>999999</th>\n",
       "      <td>COMP34</td>\n",
       "      <td>JUNIOR</td>\n",
       "      <td>NONE</td>\n",
       "      <td>NONE</td>\n",
       "      <td>OIL</td>\n",
       "      <td>16</td>\n",
       "      <td>31</td>\n",
       "    </tr>\n",
       "  </tbody>\n",
       "</table>\n",
       "<p>1000000 rows × 7 columns</p>\n",
       "</div>"
      ],
      "text/plain": [
       "       companyId         jobType       degree    major industry  \\\n",
       "0         COMP33         MANAGER  HIGH_SCHOOL     NONE   HEALTH   \n",
       "1         COMP13          JUNIOR         NONE     NONE     AUTO   \n",
       "2         COMP10             CTO      MASTERS  BIOLOGY   HEALTH   \n",
       "3         COMP21         MANAGER  HIGH_SCHOOL     NONE      OIL   \n",
       "4         COMP36          JUNIOR     DOCTORAL  BIOLOGY      OIL   \n",
       "...          ...             ...          ...      ...      ...   \n",
       "999995    COMP54  VICE_PRESIDENT    BACHELORS     MATH      OIL   \n",
       "999996     COMP5         MANAGER         NONE     NONE   HEALTH   \n",
       "999997    COMP61         JANITOR         NONE     NONE      OIL   \n",
       "999998    COMP19             CTO     DOCTORAL     MATH      OIL   \n",
       "999999    COMP34          JUNIOR         NONE     NONE      OIL   \n",
       "\n",
       "        yearsExperience  milesFromMetropolis  \n",
       "0                    22                   73  \n",
       "1                    20                   47  \n",
       "2                    17                    9  \n",
       "3                    14                   96  \n",
       "4                    10                   44  \n",
       "...                 ...                  ...  \n",
       "999995               14                    3  \n",
       "999996               20                   67  \n",
       "999997                1                   91  \n",
       "999998               14                   63  \n",
       "999999               16                   31  \n",
       "\n",
       "[1000000 rows x 7 columns]"
      ]
     },
     "execution_count": 85,
     "metadata": {},
     "output_type": "execute_result"
    }
   ],
   "source": [
    "#Drop unique identifiers\n",
    "test_features1 = test_features1.drop('jobId',axis=1)\n",
    "test_features1"
   ]
  },
  {
   "cell_type": "code",
   "execution_count": 86,
   "metadata": {},
   "outputs": [],
   "source": [
    "#One hot encoding on categorical features\n",
    "test_features1 = one_hot_encoding(feature_categorical_cols, test_features1)"
   ]
  },
  {
   "cell_type": "code",
   "execution_count": 87,
   "metadata": {},
   "outputs": [],
   "source": [
    "#Normalise numeric features to reduce bais based on measurement and range\n",
    "numeric_df1 = test_features1[feature_numeric_cols]\n",
    "numeric_df1 = MinMaxScaler().fit_transform(numeric_df1)\n",
    "test_features1[feature_numeric_cols] = numeric_df1"
   ]
  },
  {
   "cell_type": "code",
   "execution_count": 88,
   "metadata": {
    "scrolled": true
   },
   "outputs": [
    {
     "data": {
      "text/html": [
       "<div>\n",
       "<style scoped>\n",
       "    .dataframe tbody tr th:only-of-type {\n",
       "        vertical-align: middle;\n",
       "    }\n",
       "\n",
       "    .dataframe tbody tr th {\n",
       "        vertical-align: top;\n",
       "    }\n",
       "\n",
       "    .dataframe thead th {\n",
       "        text-align: right;\n",
       "    }\n",
       "</style>\n",
       "<table border=\"1\" class=\"dataframe\">\n",
       "  <thead>\n",
       "    <tr style=\"text-align: right;\">\n",
       "      <th></th>\n",
       "      <th>yearsExperience</th>\n",
       "      <th>milesFromMetropolis</th>\n",
       "      <th>companyId_COMP0</th>\n",
       "      <th>companyId_COMP1</th>\n",
       "      <th>companyId_COMP10</th>\n",
       "      <th>companyId_COMP11</th>\n",
       "      <th>companyId_COMP12</th>\n",
       "      <th>companyId_COMP13</th>\n",
       "      <th>companyId_COMP14</th>\n",
       "      <th>companyId_COMP15</th>\n",
       "      <th>...</th>\n",
       "      <th>major_MATH</th>\n",
       "      <th>major_NONE</th>\n",
       "      <th>major_PHYSICS</th>\n",
       "      <th>industry_AUTO</th>\n",
       "      <th>industry_EDUCATION</th>\n",
       "      <th>industry_FINANCE</th>\n",
       "      <th>industry_HEALTH</th>\n",
       "      <th>industry_OIL</th>\n",
       "      <th>industry_SERVICE</th>\n",
       "      <th>industry_WEB</th>\n",
       "    </tr>\n",
       "  </thead>\n",
       "  <tbody>\n",
       "    <tr>\n",
       "      <th>0</th>\n",
       "      <td>0.916667</td>\n",
       "      <td>0.737374</td>\n",
       "      <td>0</td>\n",
       "      <td>0</td>\n",
       "      <td>0</td>\n",
       "      <td>0</td>\n",
       "      <td>0</td>\n",
       "      <td>0</td>\n",
       "      <td>0</td>\n",
       "      <td>0</td>\n",
       "      <td>...</td>\n",
       "      <td>0</td>\n",
       "      <td>1</td>\n",
       "      <td>0</td>\n",
       "      <td>0</td>\n",
       "      <td>0</td>\n",
       "      <td>0</td>\n",
       "      <td>1</td>\n",
       "      <td>0</td>\n",
       "      <td>0</td>\n",
       "      <td>0</td>\n",
       "    </tr>\n",
       "    <tr>\n",
       "      <th>1</th>\n",
       "      <td>0.833333</td>\n",
       "      <td>0.474747</td>\n",
       "      <td>0</td>\n",
       "      <td>0</td>\n",
       "      <td>0</td>\n",
       "      <td>0</td>\n",
       "      <td>0</td>\n",
       "      <td>1</td>\n",
       "      <td>0</td>\n",
       "      <td>0</td>\n",
       "      <td>...</td>\n",
       "      <td>0</td>\n",
       "      <td>1</td>\n",
       "      <td>0</td>\n",
       "      <td>1</td>\n",
       "      <td>0</td>\n",
       "      <td>0</td>\n",
       "      <td>0</td>\n",
       "      <td>0</td>\n",
       "      <td>0</td>\n",
       "      <td>0</td>\n",
       "    </tr>\n",
       "    <tr>\n",
       "      <th>2</th>\n",
       "      <td>0.708333</td>\n",
       "      <td>0.090909</td>\n",
       "      <td>0</td>\n",
       "      <td>0</td>\n",
       "      <td>1</td>\n",
       "      <td>0</td>\n",
       "      <td>0</td>\n",
       "      <td>0</td>\n",
       "      <td>0</td>\n",
       "      <td>0</td>\n",
       "      <td>...</td>\n",
       "      <td>0</td>\n",
       "      <td>0</td>\n",
       "      <td>0</td>\n",
       "      <td>0</td>\n",
       "      <td>0</td>\n",
       "      <td>0</td>\n",
       "      <td>1</td>\n",
       "      <td>0</td>\n",
       "      <td>0</td>\n",
       "      <td>0</td>\n",
       "    </tr>\n",
       "    <tr>\n",
       "      <th>3</th>\n",
       "      <td>0.583333</td>\n",
       "      <td>0.969697</td>\n",
       "      <td>0</td>\n",
       "      <td>0</td>\n",
       "      <td>0</td>\n",
       "      <td>0</td>\n",
       "      <td>0</td>\n",
       "      <td>0</td>\n",
       "      <td>0</td>\n",
       "      <td>0</td>\n",
       "      <td>...</td>\n",
       "      <td>0</td>\n",
       "      <td>1</td>\n",
       "      <td>0</td>\n",
       "      <td>0</td>\n",
       "      <td>0</td>\n",
       "      <td>0</td>\n",
       "      <td>0</td>\n",
       "      <td>1</td>\n",
       "      <td>0</td>\n",
       "      <td>0</td>\n",
       "    </tr>\n",
       "    <tr>\n",
       "      <th>4</th>\n",
       "      <td>0.416667</td>\n",
       "      <td>0.444444</td>\n",
       "      <td>0</td>\n",
       "      <td>0</td>\n",
       "      <td>0</td>\n",
       "      <td>0</td>\n",
       "      <td>0</td>\n",
       "      <td>0</td>\n",
       "      <td>0</td>\n",
       "      <td>0</td>\n",
       "      <td>...</td>\n",
       "      <td>0</td>\n",
       "      <td>0</td>\n",
       "      <td>0</td>\n",
       "      <td>0</td>\n",
       "      <td>0</td>\n",
       "      <td>0</td>\n",
       "      <td>0</td>\n",
       "      <td>1</td>\n",
       "      <td>0</td>\n",
       "      <td>0</td>\n",
       "    </tr>\n",
       "    <tr>\n",
       "      <th>...</th>\n",
       "      <td>...</td>\n",
       "      <td>...</td>\n",
       "      <td>...</td>\n",
       "      <td>...</td>\n",
       "      <td>...</td>\n",
       "      <td>...</td>\n",
       "      <td>...</td>\n",
       "      <td>...</td>\n",
       "      <td>...</td>\n",
       "      <td>...</td>\n",
       "      <td>...</td>\n",
       "      <td>...</td>\n",
       "      <td>...</td>\n",
       "      <td>...</td>\n",
       "      <td>...</td>\n",
       "      <td>...</td>\n",
       "      <td>...</td>\n",
       "      <td>...</td>\n",
       "      <td>...</td>\n",
       "      <td>...</td>\n",
       "      <td>...</td>\n",
       "    </tr>\n",
       "    <tr>\n",
       "      <th>999995</th>\n",
       "      <td>0.583333</td>\n",
       "      <td>0.030303</td>\n",
       "      <td>0</td>\n",
       "      <td>0</td>\n",
       "      <td>0</td>\n",
       "      <td>0</td>\n",
       "      <td>0</td>\n",
       "      <td>0</td>\n",
       "      <td>0</td>\n",
       "      <td>0</td>\n",
       "      <td>...</td>\n",
       "      <td>1</td>\n",
       "      <td>0</td>\n",
       "      <td>0</td>\n",
       "      <td>0</td>\n",
       "      <td>0</td>\n",
       "      <td>0</td>\n",
       "      <td>0</td>\n",
       "      <td>1</td>\n",
       "      <td>0</td>\n",
       "      <td>0</td>\n",
       "    </tr>\n",
       "    <tr>\n",
       "      <th>999996</th>\n",
       "      <td>0.833333</td>\n",
       "      <td>0.676768</td>\n",
       "      <td>0</td>\n",
       "      <td>0</td>\n",
       "      <td>0</td>\n",
       "      <td>0</td>\n",
       "      <td>0</td>\n",
       "      <td>0</td>\n",
       "      <td>0</td>\n",
       "      <td>0</td>\n",
       "      <td>...</td>\n",
       "      <td>0</td>\n",
       "      <td>1</td>\n",
       "      <td>0</td>\n",
       "      <td>0</td>\n",
       "      <td>0</td>\n",
       "      <td>0</td>\n",
       "      <td>1</td>\n",
       "      <td>0</td>\n",
       "      <td>0</td>\n",
       "      <td>0</td>\n",
       "    </tr>\n",
       "    <tr>\n",
       "      <th>999997</th>\n",
       "      <td>0.041667</td>\n",
       "      <td>0.919192</td>\n",
       "      <td>0</td>\n",
       "      <td>0</td>\n",
       "      <td>0</td>\n",
       "      <td>0</td>\n",
       "      <td>0</td>\n",
       "      <td>0</td>\n",
       "      <td>0</td>\n",
       "      <td>0</td>\n",
       "      <td>...</td>\n",
       "      <td>0</td>\n",
       "      <td>1</td>\n",
       "      <td>0</td>\n",
       "      <td>0</td>\n",
       "      <td>0</td>\n",
       "      <td>0</td>\n",
       "      <td>0</td>\n",
       "      <td>1</td>\n",
       "      <td>0</td>\n",
       "      <td>0</td>\n",
       "    </tr>\n",
       "    <tr>\n",
       "      <th>999998</th>\n",
       "      <td>0.583333</td>\n",
       "      <td>0.636364</td>\n",
       "      <td>0</td>\n",
       "      <td>0</td>\n",
       "      <td>0</td>\n",
       "      <td>0</td>\n",
       "      <td>0</td>\n",
       "      <td>0</td>\n",
       "      <td>0</td>\n",
       "      <td>0</td>\n",
       "      <td>...</td>\n",
       "      <td>1</td>\n",
       "      <td>0</td>\n",
       "      <td>0</td>\n",
       "      <td>0</td>\n",
       "      <td>0</td>\n",
       "      <td>0</td>\n",
       "      <td>0</td>\n",
       "      <td>1</td>\n",
       "      <td>0</td>\n",
       "      <td>0</td>\n",
       "    </tr>\n",
       "    <tr>\n",
       "      <th>999999</th>\n",
       "      <td>0.666667</td>\n",
       "      <td>0.313131</td>\n",
       "      <td>0</td>\n",
       "      <td>0</td>\n",
       "      <td>0</td>\n",
       "      <td>0</td>\n",
       "      <td>0</td>\n",
       "      <td>0</td>\n",
       "      <td>0</td>\n",
       "      <td>0</td>\n",
       "      <td>...</td>\n",
       "      <td>0</td>\n",
       "      <td>1</td>\n",
       "      <td>0</td>\n",
       "      <td>0</td>\n",
       "      <td>0</td>\n",
       "      <td>0</td>\n",
       "      <td>0</td>\n",
       "      <td>1</td>\n",
       "      <td>0</td>\n",
       "      <td>0</td>\n",
       "    </tr>\n",
       "  </tbody>\n",
       "</table>\n",
       "<p>1000000 rows × 94 columns</p>\n",
       "</div>"
      ],
      "text/plain": [
       "        yearsExperience  milesFromMetropolis  companyId_COMP0  \\\n",
       "0              0.916667             0.737374                0   \n",
       "1              0.833333             0.474747                0   \n",
       "2              0.708333             0.090909                0   \n",
       "3              0.583333             0.969697                0   \n",
       "4              0.416667             0.444444                0   \n",
       "...                 ...                  ...              ...   \n",
       "999995         0.583333             0.030303                0   \n",
       "999996         0.833333             0.676768                0   \n",
       "999997         0.041667             0.919192                0   \n",
       "999998         0.583333             0.636364                0   \n",
       "999999         0.666667             0.313131                0   \n",
       "\n",
       "        companyId_COMP1  companyId_COMP10  companyId_COMP11  companyId_COMP12  \\\n",
       "0                     0                 0                 0                 0   \n",
       "1                     0                 0                 0                 0   \n",
       "2                     0                 1                 0                 0   \n",
       "3                     0                 0                 0                 0   \n",
       "4                     0                 0                 0                 0   \n",
       "...                 ...               ...               ...               ...   \n",
       "999995                0                 0                 0                 0   \n",
       "999996                0                 0                 0                 0   \n",
       "999997                0                 0                 0                 0   \n",
       "999998                0                 0                 0                 0   \n",
       "999999                0                 0                 0                 0   \n",
       "\n",
       "        companyId_COMP13  companyId_COMP14  companyId_COMP15  ...  major_MATH  \\\n",
       "0                      0                 0                 0  ...           0   \n",
       "1                      1                 0                 0  ...           0   \n",
       "2                      0                 0                 0  ...           0   \n",
       "3                      0                 0                 0  ...           0   \n",
       "4                      0                 0                 0  ...           0   \n",
       "...                  ...               ...               ...  ...         ...   \n",
       "999995                 0                 0                 0  ...           1   \n",
       "999996                 0                 0                 0  ...           0   \n",
       "999997                 0                 0                 0  ...           0   \n",
       "999998                 0                 0                 0  ...           1   \n",
       "999999                 0                 0                 0  ...           0   \n",
       "\n",
       "        major_NONE  major_PHYSICS  industry_AUTO  industry_EDUCATION  \\\n",
       "0                1              0              0                   0   \n",
       "1                1              0              1                   0   \n",
       "2                0              0              0                   0   \n",
       "3                1              0              0                   0   \n",
       "4                0              0              0                   0   \n",
       "...            ...            ...            ...                 ...   \n",
       "999995           0              0              0                   0   \n",
       "999996           1              0              0                   0   \n",
       "999997           1              0              0                   0   \n",
       "999998           0              0              0                   0   \n",
       "999999           1              0              0                   0   \n",
       "\n",
       "        industry_FINANCE  industry_HEALTH  industry_OIL  industry_SERVICE  \\\n",
       "0                      0                1             0                 0   \n",
       "1                      0                0             0                 0   \n",
       "2                      0                1             0                 0   \n",
       "3                      0                0             1                 0   \n",
       "4                      0                0             1                 0   \n",
       "...                  ...              ...           ...               ...   \n",
       "999995                 0                0             1                 0   \n",
       "999996                 0                1             0                 0   \n",
       "999997                 0                0             1                 0   \n",
       "999998                 0                0             1                 0   \n",
       "999999                 0                0             1                 0   \n",
       "\n",
       "        industry_WEB  \n",
       "0                  0  \n",
       "1                  0  \n",
       "2                  0  \n",
       "3                  0  \n",
       "4                  0  \n",
       "...              ...  \n",
       "999995             0  \n",
       "999996             0  \n",
       "999997             0  \n",
       "999998             0  \n",
       "999999             0  \n",
       "\n",
       "[1000000 rows x 94 columns]"
      ]
     },
     "execution_count": 88,
     "metadata": {},
     "output_type": "execute_result"
    }
   ],
   "source": [
    "#View test_features1\n",
    "test_features1"
   ]
  },
  {
   "cell_type": "code",
   "execution_count": 89,
   "metadata": {
    "scrolled": true
   },
   "outputs": [
    {
     "name": "stdout",
     "output_type": "stream",
     "text": [
      "GradientBoostingRegressor(max_depth=7, n_estimators=150, random_state=0)\n"
     ]
    }
   ],
   "source": [
    "#Model to be deployed  \n",
    "print(model)\n",
    "\n",
    "#Salary predictions on test set\n",
    "test_salaries = model.predict(test_features1)"
   ]
  },
  {
   "cell_type": "code",
   "execution_count": 90,
   "metadata": {},
   "outputs": [],
   "source": [
    "test_salaries = pd.DataFrame(test_salaries)"
   ]
  },
  {
   "cell_type": "code",
   "execution_count": 91,
   "metadata": {
    "scrolled": true
   },
   "outputs": [
    {
     "data": {
      "text/html": [
       "<div>\n",
       "<style scoped>\n",
       "    .dataframe tbody tr th:only-of-type {\n",
       "        vertical-align: middle;\n",
       "    }\n",
       "\n",
       "    .dataframe tbody tr th {\n",
       "        vertical-align: top;\n",
       "    }\n",
       "\n",
       "    .dataframe thead th {\n",
       "        text-align: right;\n",
       "    }\n",
       "</style>\n",
       "<table border=\"1\" class=\"dataframe\">\n",
       "  <thead>\n",
       "    <tr style=\"text-align: right;\">\n",
       "      <th></th>\n",
       "      <th>jobId</th>\n",
       "      <th>0</th>\n",
       "    </tr>\n",
       "  </thead>\n",
       "  <tbody>\n",
       "    <tr>\n",
       "      <th>0</th>\n",
       "      <td>JOB1362685407687</td>\n",
       "      <td>112.276684</td>\n",
       "    </tr>\n",
       "    <tr>\n",
       "      <th>1</th>\n",
       "      <td>JOB1362685407688</td>\n",
       "      <td>92.116687</td>\n",
       "    </tr>\n",
       "    <tr>\n",
       "      <th>2</th>\n",
       "      <td>JOB1362685407689</td>\n",
       "      <td>181.639551</td>\n",
       "    </tr>\n",
       "    <tr>\n",
       "      <th>3</th>\n",
       "      <td>JOB1362685407690</td>\n",
       "      <td>104.902131</td>\n",
       "    </tr>\n",
       "    <tr>\n",
       "      <th>4</th>\n",
       "      <td>JOB1362685407691</td>\n",
       "      <td>118.095964</td>\n",
       "    </tr>\n",
       "  </tbody>\n",
       "</table>\n",
       "</div>"
      ],
      "text/plain": [
       "              jobId           0\n",
       "0  JOB1362685407687  112.276684\n",
       "1  JOB1362685407688   92.116687\n",
       "2  JOB1362685407689  181.639551\n",
       "3  JOB1362685407690  104.902131\n",
       "4  JOB1362685407691  118.095964"
      ]
     },
     "execution_count": 91,
     "metadata": {},
     "output_type": "execute_result"
    }
   ],
   "source": [
    "#test_salaries = pd.DataFrame(test_salaries)\n",
    "test_salaries1 = pd.concat([test_jobId, test_salaries],axis=1)\n",
    "test_salaries1.head()"
   ]
  },
  {
   "cell_type": "code",
   "execution_count": 92,
   "metadata": {
    "scrolled": true
   },
   "outputs": [
    {
     "data": {
      "text/html": [
       "<div>\n",
       "<style scoped>\n",
       "    .dataframe tbody tr th:only-of-type {\n",
       "        vertical-align: middle;\n",
       "    }\n",
       "\n",
       "    .dataframe tbody tr th {\n",
       "        vertical-align: top;\n",
       "    }\n",
       "\n",
       "    .dataframe thead th {\n",
       "        text-align: right;\n",
       "    }\n",
       "</style>\n",
       "<table border=\"1\" class=\"dataframe\">\n",
       "  <thead>\n",
       "    <tr style=\"text-align: right;\">\n",
       "      <th></th>\n",
       "      <th>jobId</th>\n",
       "      <th>salary</th>\n",
       "    </tr>\n",
       "  </thead>\n",
       "  <tbody>\n",
       "    <tr>\n",
       "      <th>0</th>\n",
       "      <td>JOB1362685407687</td>\n",
       "      <td>112.276684</td>\n",
       "    </tr>\n",
       "    <tr>\n",
       "      <th>1</th>\n",
       "      <td>JOB1362685407688</td>\n",
       "      <td>92.116687</td>\n",
       "    </tr>\n",
       "    <tr>\n",
       "      <th>2</th>\n",
       "      <td>JOB1362685407689</td>\n",
       "      <td>181.639551</td>\n",
       "    </tr>\n",
       "    <tr>\n",
       "      <th>3</th>\n",
       "      <td>JOB1362685407690</td>\n",
       "      <td>104.902131</td>\n",
       "    </tr>\n",
       "    <tr>\n",
       "      <th>4</th>\n",
       "      <td>JOB1362685407691</td>\n",
       "      <td>118.095964</td>\n",
       "    </tr>\n",
       "    <tr>\n",
       "      <th>...</th>\n",
       "      <td>...</td>\n",
       "      <td>...</td>\n",
       "    </tr>\n",
       "    <tr>\n",
       "      <th>999995</th>\n",
       "      <td>JOB1362686407682</td>\n",
       "      <td>166.440146</td>\n",
       "    </tr>\n",
       "    <tr>\n",
       "      <th>999996</th>\n",
       "      <td>JOB1362686407683</td>\n",
       "      <td>105.690939</td>\n",
       "    </tr>\n",
       "    <tr>\n",
       "      <th>999997</th>\n",
       "      <td>JOB1362686407684</td>\n",
       "      <td>54.941126</td>\n",
       "    </tr>\n",
       "    <tr>\n",
       "      <th>999998</th>\n",
       "      <td>JOB1362686407685</td>\n",
       "      <td>160.823383</td>\n",
       "    </tr>\n",
       "    <tr>\n",
       "      <th>999999</th>\n",
       "      <td>JOB1362686407686</td>\n",
       "      <td>108.892373</td>\n",
       "    </tr>\n",
       "  </tbody>\n",
       "</table>\n",
       "<p>1000000 rows × 2 columns</p>\n",
       "</div>"
      ],
      "text/plain": [
       "                   jobId      salary\n",
       "0       JOB1362685407687  112.276684\n",
       "1       JOB1362685407688   92.116687\n",
       "2       JOB1362685407689  181.639551\n",
       "3       JOB1362685407690  104.902131\n",
       "4       JOB1362685407691  118.095964\n",
       "...                  ...         ...\n",
       "999995  JOB1362686407682  166.440146\n",
       "999996  JOB1362686407683  105.690939\n",
       "999997  JOB1362686407684   54.941126\n",
       "999998  JOB1362686407685  160.823383\n",
       "999999  JOB1362686407686  108.892373\n",
       "\n",
       "[1000000 rows x 2 columns]"
      ]
     },
     "execution_count": 92,
     "metadata": {},
     "output_type": "execute_result"
    }
   ],
   "source": [
    "#Rename 'salary' column\n",
    "test_salaries1.columns = ['jobId','salary']\n",
    "test_salaries1"
   ]
  },
  {
   "cell_type": "code",
   "execution_count": 93,
   "metadata": {},
   "outputs": [],
   "source": [
    "#Save salary predictions for each jobId to csv \n",
    "test_salaries1.to_csv('test_salaries.csv')"
   ]
  }
 ],
 "metadata": {
  "kernelspec": {
   "display_name": "Python 3",
   "language": "python",
   "name": "python3"
  },
  "language_info": {
   "codemirror_mode": {
    "name": "ipython",
    "version": 3
   },
   "file_extension": ".py",
   "mimetype": "text/x-python",
   "name": "python",
   "nbconvert_exporter": "python",
   "pygments_lexer": "ipython3",
   "version": "3.8.3"
  }
 },
 "nbformat": 4,
 "nbformat_minor": 2
}
